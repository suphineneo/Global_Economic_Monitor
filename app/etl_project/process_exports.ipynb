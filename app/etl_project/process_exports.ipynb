{
 "cells": [
  {
   "cell_type": "code",
   "execution_count": 1,
   "metadata": {},
   "outputs": [],
   "source": [
    "# import requests\n",
    "import pandas as pd \n",
    "import requests\n",
    "import wbgapi as wb"
   ]
  },
  {
   "cell_type": "code",
   "execution_count": null,
   "metadata": {},
   "outputs": [],
   "source": [
    "wb.source.info()"
   ]
  },
  {
   "cell_type": "code",
   "execution_count": null,
   "metadata": {},
   "outputs": [],
   "source": [
    "data = wb.series.list(q='export')\n",
    "print(data)"
   ]
  },
  {
   "cell_type": "code",
   "execution_count": null,
   "metadata": {},
   "outputs": [],
   "source": [
    "for id in data:\n",
    "    print(id)"
   ]
  },
  {
   "cell_type": "code",
   "execution_count": 107,
   "metadata": {},
   "outputs": [],
   "source": [
    "# read local data file\n",
    "#filename = \"data\\\\raw_data\\Exports Merchandise, Customs, Price, US$, seas. adj..xlsx\"\n",
    "#df = pd.read_excel(filename)"
   ]
  },
  {
   "cell_type": "code",
   "execution_count": 36,
   "metadata": {},
   "outputs": [],
   "source": [
    "# request data from API\n",
    "\n",
    "# Define the indicator for merchandise exports\n",
    "indicator = \"TX.VAL.MRCH.XD.WD\" \n",
    "# Define the URL for merchandise exports\n",
    "#https://api.worldbank.org/v2/country/all/indicator/SL.UEM.TOTL.NE.ZS?date=2024:2024\n",
    "#https://api.worldbank.org/v2/countries/all/indicators/SL.UEM.TOTL.ZS \n",
    "# use this to check api/metadata: https://api.worldbank.org/v2/countries/all/indicator/SL.UEM.TOTL.ZS?date=2023:2024&format=json&page=6\n",
    "\n",
    "date_range = \"2010:2024\"\n",
    "#base_url = f\"https://api.worldbank.org/v2/countries/all/indicators/{indicator}?{date_range}&format=json\"\n",
    "api_url = f\"https://api.worldbank.org/v2/countries/all/indicators/{indicator}\"\n",
    "params = {\n",
    "    \"date\": date_range,\n",
    "    \"format\": \"json\",\n",
    "    \"page\": 1  # Start at page 1\n",
    "}"
   ]
  },
  {
   "cell_type": "code",
   "execution_count": 37,
   "metadata": {},
   "outputs": [],
   "source": [
    "#Fetch data from the World Bank API\n",
    "response = requests.get(api_url)"
   ]
  },
  {
   "cell_type": "code",
   "execution_count": null,
   "metadata": {},
   "outputs": [],
   "source": [
    "all_data = []\n",
    "\n",
    "while True:\n",
    "    response = requests.get(api_url, params=params)\n",
    "    response_data = response.json()\n",
    "    print(response_data)\n",
    "    if len(response_data) < 2 or not response_data[1]:  # Check if there's data\n",
    "        break\n",
    "    \n",
    "    all_data.extend(response_data[1])  # Add current page data to all_data\n",
    "    \n",
    "    # Update parameters for the next page\n",
    "    params[\"page\"] += 1\n",
    "\n",
    "df_export = pd.json_normalize(all_data)\n",
    "\n",
    "print(df_export)"
   ]
  },
  {
   "cell_type": "code",
   "execution_count": null,
   "metadata": {},
   "outputs": [],
   "source": [
    "df_export"
   ]
  },
  {
   "cell_type": "markdown",
   "metadata": {},
   "source": [
    "### Transforming data"
   ]
  },
  {
   "cell_type": "code",
   "execution_count": null,
   "metadata": {},
   "outputs": [],
   "source": [
    "# understand the columns\n",
    "df_export.columns\n",
    "# remove leading and trailing spaces\n",
    "df_export.columns = df_export.columns.str.strip()\n",
    "df_export.columns"
   ]
  },
  {
   "cell_type": "code",
   "execution_count": null,
   "metadata": {},
   "outputs": [],
   "source": [
    "# Rename the column 'date'\n",
    "df_export.rename(columns={'date': 'year'}, inplace=True)\n",
    "df_export"
   ]
  },
  {
   "cell_type": "code",
   "execution_count": null,
   "metadata": {},
   "outputs": [],
   "source": [
    "# Remove NaN from the Year and value column\n",
    "df_cleaned = df_export.dropna(subset=['year'])\n",
    "df_cleaned = df_cleaned.dropna(subset=['value'])\n",
    "df_cleaned"
   ]
  },
  {
   "cell_type": "code",
   "execution_count": null,
   "metadata": {},
   "outputs": [],
   "source": [
    "df_cleaned = df_cleaned[['year', 'value', 'country.value']]\n",
    "df_cleaned['country'] = df_export['country.value']\n",
    "df_cleaned.drop(columns=['country.value'], inplace=True)\n",
    "df_cleaned"
   ]
  },
  {
   "cell_type": "code",
   "execution_count": null,
   "metadata": {},
   "outputs": [],
   "source": [
    "df_cleaned.reset_index(drop=True, inplace=True)\n",
    "df_cleaned"
   ]
  },
  {
   "cell_type": "code",
   "execution_count": null,
   "metadata": {},
   "outputs": [],
   "source": [
    "# Filter the DataFrame to include only rows where 'country' is Australia, New Zealand, or Italy\n",
    "df_cleaned = df_cleaned[df_cleaned['country'].isin(['Australia', 'New Zealand', 'Italy'])]\n",
    "df_cleaned"
   ]
  },
  {
   "cell_type": "code",
   "execution_count": null,
   "metadata": {},
   "outputs": [],
   "source": [
    "# Pivot the DataFrame\n",
    "pivoted_df = df_cleaned.pivot(index='year', columns='country', values='value')\n",
    "\n",
    "# Resetting the index to make 'year' a column again\n",
    "pivoted_df.reset_index(inplace=True)\n",
    "pivoted_df.columns.name = None\n",
    "pivoted_df"
   ]
  },
  {
   "cell_type": "code",
   "execution_count": null,
   "metadata": {},
   "outputs": [],
   "source": [
    "# Add an ID column\n",
    "pivoted_df.insert(0, 'id', range(1, len(pivoted_df) + 1))\n"
   ]
  },
  {
   "cell_type": "code",
   "execution_count": null,
   "metadata": {},
   "outputs": [],
   "source": [
    "pivoted_df"
   ]
  },
  {
   "cell_type": "markdown",
   "metadata": {},
   "source": [
    "### Load data to file (parquet)"
   ]
  },
  {
   "cell_type": "code",
   "execution_count": 88,
   "metadata": {},
   "outputs": [],
   "source": [
    "# load (overwrite) data to a csv / Parquet file \n",
    "pivoted_df.to_parquet('data\\clean_data\\exports.parquet')"
   ]
  },
  {
   "cell_type": "markdown",
   "metadata": {},
   "source": [
    "### Load data to SQL "
   ]
  },
  {
   "cell_type": "code",
   "execution_count": 82,
   "metadata": {},
   "outputs": [],
   "source": [
    "from sqlalchemy import create_engine, Table, Column, Integer, String, MetaData, Float # https://www.tutorialspoint.com/sqlalchemy/sqlalchemy_core_creating_table.htm\n",
    "from sqlalchemy.engine import URL\n",
    "from sqlalchemy.dialects import postgresql\n",
    "from sqlalchemy.schema import CreateTable \n",
    "#from secrets_config import db_user, db_password, db_server_name, db_database_name"
   ]
  },
  {
   "cell_type": "code",
   "execution_count": 83,
   "metadata": {},
   "outputs": [],
   "source": [
    "#can't import secrets_config, leaving this for now\n",
    "\n",
    "#database\n",
    "db_user='postgres'\n",
    "db_password='postgres'\n",
    "db_server_name='localhost'\n",
    "db_database_name='project1'"
   ]
  },
  {
   "cell_type": "code",
   "execution_count": 84,
   "metadata": {},
   "outputs": [],
   "source": [
    "# create connection to database \n",
    "connection_url = URL.create(\n",
    "    drivername=\"postgresql+pg8000\",  # \"postgresql+pg8000\" indicates the driver to be used.\n",
    "    username=db_user,\n",
    "    password=db_password,\n",
    "    host=db_server_name,\n",
    "    port=5432,  # Ensure the port number is correct (default for PostgreSQL is 5432).\n",
    "    database=db_database_name,\n",
    ")\n",
    "\n",
    "engine = create_engine(connection_url)\n"
   ]
  },
  {
   "cell_type": "code",
   "execution_count": null,
   "metadata": {},
   "outputs": [],
   "source": [
    "connection_url"
   ]
  },
  {
   "cell_type": "markdown",
   "metadata": {},
   "source": [
    "Append"
   ]
  },
  {
   "cell_type": "code",
   "execution_count": null,
   "metadata": {},
   "outputs": [],
   "source": [
    "# using pandas \n",
    "pivoted_df.to_sql(\"export\", engine, if_exists=\"append\")\n",
    "pivoted_df.head()"
   ]
  },
  {
   "cell_type": "markdown",
   "metadata": {},
   "source": [
    "Upsert"
   ]
  },
  {
   "cell_type": "code",
   "execution_count": 98,
   "metadata": {},
   "outputs": [],
   "source": [
    "# it is not authomaic with pandas, we need to write exactly what the table looks like  \n",
    "\n",
    "meta = MetaData()\n",
    "export_table = Table(\n",
    "    \"export\", meta, \n",
    "    Column(\"id\", Integer, primary_key=True),\n",
    "    Column(\"year\", Integer, primary_key=True),\n",
    "    Column(\"Australia\", Float),\n",
    "    Column(\"Italy\", Float),\n",
    "    Column(\"New Zealand\", Float),\n",
    ")\n",
    "meta.create_all(engine) # creates table if it does not exists"
   ]
  },
  {
   "cell_type": "code",
   "execution_count": 99,
   "metadata": {},
   "outputs": [],
   "source": [
    "# Convert the DataFrame to a list of dictionaries\n",
    "records = pivoted_df.to_dict(orient='records')"
   ]
  },
  {
   "cell_type": "code",
   "execution_count": null,
   "metadata": {},
   "outputs": [],
   "source": [
    "insert_statement = postgresql.insert(export_table).values(pivoted_df.to_dict(orient='records'))\n",
    "\n",
    "upsert_statement = insert_statement.on_conflict_do_update(\n",
    "    index_elements=[\"id\", \"year\"],\n",
    "    set_={c.key: c for c in insert_statement.excluded if c.key not in [\"id\", \"year\"]})\n",
    "\n",
    "# Execute the upsert statement\n",
    "with engine.connect() as connection:\n",
    "    connection.execute(upsert_statement)"
   ]
  }
 ],
 "metadata": {
  "interpreter": {
   "hash": "ec7476cd5298a73f69e8eecc398cdeac6e308767034e2d84faebe029453106ad"
  },
  "kernelspec": {
   "display_name": "Python 3.9.12 ('dec')",
   "language": "python",
   "name": "python3"
  },
  "language_info": {
   "codemirror_mode": {
    "name": "ipython",
    "version": 3
   },
   "file_extension": ".py",
   "mimetype": "text/x-python",
   "name": "python",
   "nbconvert_exporter": "python",
   "pygments_lexer": "ipython3",
   "version": "3.9.19"
  },
  "orig_nbformat": 4
 },
 "nbformat": 4,
 "nbformat_minor": 2
}
