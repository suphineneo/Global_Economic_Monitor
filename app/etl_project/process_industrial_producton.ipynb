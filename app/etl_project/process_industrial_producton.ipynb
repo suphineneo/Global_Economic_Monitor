{
 "cells": [
  {
   "cell_type": "code",
   "execution_count": 73,
   "metadata": {},
   "outputs": [],
   "source": [
    "import pandas as pd\n",
    "import numpy as np\n",
    "import os\n",
    "import requests\n",
    "import openpyxl\n",
    "from datetime import datetime, timedelta\n",
    "from requests.adapters import HTTPAdapter, Retry\n",
    "import logging\n",
    "import time"
   ]
  },
  {
   "cell_type": "markdown",
   "metadata": {},
   "source": [
    "## For implementing Data Analysis on `Excel` spreadsheets"
   ]
  },
  {
   "cell_type": "code",
   "execution_count": 62,
   "metadata": {},
   "outputs": [],
   "source": [
    "df = pd.read_excel('/Users/aanwar/Desktop/dec_project_1/Global_Economic_Monitor/app/etl_project/data/Industrial Production, constant 2010 US$, seas. adj..xlsx')\n",
    "df = df.drop(df.index[0])\n",
    "df.rename(columns={'Unnamed: 0': 'Year'}, inplace=True)\n",
    "df.fillna(method='ffill', inplace=True)"
   ]
  },
  {
   "cell_type": "markdown",
   "metadata": {},
   "source": [
    "## Doing some Data Wrangling:"
   ]
  },
  {
   "cell_type": "code",
   "execution_count": 18,
   "metadata": {},
   "outputs": [],
   "source": [
    "country_columns = df.columns[1:]  # Exclude 'Year'\n",
    "\n",
    "# Automate table creation and data insertion for each country\n",
    "for country in country_columns:\n",
    "    # Create a DataFrame for the current country\n",
    "    country_df = df[['Year', country]].copy()\n",
    "    country_df.columns = ['year', 'gdp']  # Rename columns for consistency\n",
    "\n",
    "    # Create a table for the country (if it doesn't exist) and insert data\n",
    "    country_name = country.lower().replace(' ', '_')"
   ]
  },
  {
   "cell_type": "markdown",
   "metadata": {},
   "source": [
    "## Data Engineering via API Call"
   ]
  },
  {
   "cell_type": "markdown",
   "metadata": {},
   "source": [
    "### My logging function:"
   ]
  },
  {
   "cell_type": "code",
   "execution_count": 74,
   "metadata": {},
   "outputs": [],
   "source": [
    "import logging\n",
    "import time\n",
    "\n",
    "\n",
    "def setup_pipeline_logging(pipeline_name: str, log_folder_path: str):\n",
    "    # Initialize logger\n",
    "    logger = logging.getLogger(pipeline_name)\n",
    "    logger.setLevel(logging.INFO)\n",
    "\n",
    "    # Create log file path\n",
    "    file_path = f\"{log_folder_path}/{pipeline_name}_{time.time()}.log\"\n",
    "\n",
    "    # Create handlers\n",
    "    file_handler = logging.FileHandler(file_path)\n",
    "    stream_handler = logging.StreamHandler()\n",
    "\n",
    "    # Set logging levels\n",
    "    file_handler.setLevel(logging.INFO)\n",
    "    stream_handler.setLevel(logging.INFO)\n",
    "\n",
    "    # Create formatters and add them to the handlers\n",
    "    formatter = logging.Formatter(\n",
    "        \"%(asctime)s - %(name)s - %(levelname)s - %(message)s\"\n",
    "    )\n",
    "    file_handler.setFormatter(formatter)\n",
    "    stream_handler.setFormatter(formatter)\n",
    "\n",
    "    # Add handlers to the logger\n",
    "    logger.addHandler(file_handler)\n",
    "    logger.addHandler(stream_handler)\n",
    "\n",
    "    return logger, file_path\n",
    "\n",
    "\n",
    "def get_logs(file_path: str) -> str:\n",
    "    with open(file_path, \"r\") as file:\n",
    "        return \"\".join(file.readlines())"
   ]
  },
  {
   "cell_type": "markdown",
   "metadata": {},
   "source": [
    "### Calling API calls using incremental loads:"
   ]
  },
  {
   "cell_type": "code",
   "execution_count": 77,
   "metadata": {},
   "outputs": [
    {
     "name": "stderr",
     "output_type": "stream",
     "text": [
      "2024-10-01 21:06:32,545 - worldbankdata_industrial - INFO - Making api connection\n",
      "2024-10-01 21:06:32,545 - worldbankdata_industrial - INFO - Making api connection\n",
      "2024-10-01 21:06:32,546 - worldbankdata_industrial - INFO - Starting to fetch data\n",
      "2024-10-01 21:06:32,546 - worldbankdata_industrial - INFO - Starting to fetch data\n"
     ]
    },
    {
     "name": "stdout",
     "output_type": "stream",
     "text": [
      "2024-10-01 21:06:32,545 - worldbankdata_industrial - INFO - Making api connection\n",
      "\n"
     ]
    },
    {
     "name": "stderr",
     "output_type": "stream",
     "text": [
      "2024-10-01 21:06:44,378 - worldbankdata_industrial - INFO - Data has been fetched\n",
      "2024-10-01 21:06:44,378 - worldbankdata_industrial - INFO - Data has been fetched\n"
     ]
    }
   ],
   "source": [
    "class WorldBankDataLoader:\n",
    "    def __init__(self, indicator, start_year, end_year):\n",
    "        \"\"\"\n",
    "        Initialize the WorldBankDataLoader with the indicator, start year, and end year.\n",
    "        \n",
    "        Args:\n",
    "        - indicator (str): The indicator code for the World Bank API (e.g., 'NV.IND.TOTL.KD.ZG').\n",
    "        - start_year (str): The starting year for the data.\n",
    "        - end_year (str): The ending year for the data.\n",
    "        \"\"\"\n",
    "        self.indicator = indicator\n",
    "        self.date_range = f\"{start_year}:{end_year}\"\n",
    "        self.base_url = f\"https://api.worldbank.org/v2/countries/all/indicators/{self.indicator}?\"\n",
    "        self.params = {\n",
    "            \"date\": self.date_range,\n",
    "            \"format\": \"json\",\n",
    "            \"page\": 1  # Start at page 1\n",
    "        }\n",
    "        self.all_data = []  # To store paginated data\n",
    "\n",
    "    def fetch_data(self):\n",
    "        \"\"\"\n",
    "        Fetch data from the World Bank API, handling pagination until all data is retrieved.\n",
    "        \n",
    "        Returns:\n",
    "        - pd.DataFrame: A pandas DataFrame containing all the data fetched from the API.\n",
    "        \"\"\"\n",
    "        while True:\n",
    "            response = requests.get(self.base_url, params=self.params)\n",
    "            response_data = response.json()\n",
    "\n",
    "            # Check if valid data is returned\n",
    "            if len(response_data) < 2 or not response_data[1]:\n",
    "                break\n",
    "\n",
    "            # Extend the all_data list with the current page's data\n",
    "            self.all_data.extend(response_data[1])\n",
    "\n",
    "            # Increment page number for the next API call\n",
    "            self.params[\"page\"] += 1\n",
    "\n",
    "        # Normalize and return the data as a pandas DataFrame\n",
    "        return pd.json_normalize(data=self.all_data)\n",
    "\n",
    "# Example usage\n",
    "if __name__ == \"__main__\":\n",
    "\n",
    "\n",
    "    # Create an instance of the loader for the specific indicator and date range\n",
    "    loader = WorldBankDataLoader(indicator=\"NV.IND.TOTL.KD.ZG\", start_year=\"2020\", end_year=\"2024\")\n",
    "\n",
    "    logger, log_file = setup_pipeline_logging(\"worldbankdata_industrial\", \"logs\")\n",
    "    logger.info(\"Making api connection\")\n",
    "    logs = get_logs(log_file)\n",
    "    print(logs)\n",
    "\n",
    "    # Fetch the data\n",
    "    logger.info(\"Starting to fetch data\")\n",
    "    df_data = loader.fetch_data()\n",
    "    logger.info(\"Data has been fetched\")\n",
    "    \n",
    "    # Print the resulting DataFrame\n",
    "    #print(df_data)"
   ]
  },
  {
   "cell_type": "code",
   "execution_count": 71,
   "metadata": {},
   "outputs": [
    {
     "name": "stdout",
     "output_type": "stream",
     "text": [
      "<class 'pandas.core.frame.DataFrame'>\n",
      "RangeIndex: 9044 entries, 0 to 9043\n",
      "Data columns (total 10 columns):\n",
      " #   Column           Non-Null Count  Dtype  \n",
      "---  ------           --------------  -----  \n",
      " 0   countryiso3code  9044 non-null   object \n",
      " 1   date             9044 non-null   object \n",
      " 2   value            7088 non-null   float64\n",
      " 3   unit             9044 non-null   object \n",
      " 4   obs_status       9044 non-null   object \n",
      " 5   decimal          9044 non-null   int64  \n",
      " 6   indicator.id     9044 non-null   object \n",
      " 7   indicator.value  9044 non-null   object \n",
      " 8   country.id       9044 non-null   object \n",
      " 9   country.value    9044 non-null   object \n",
      "dtypes: float64(1), int64(1), object(8)\n",
      "memory usage: 706.7+ KB\n"
     ]
    }
   ],
   "source": [
    "df_data.info()"
   ]
  },
  {
   "cell_type": "code",
   "execution_count": 72,
   "metadata": {},
   "outputs": [
    {
     "data": {
      "text/html": [
       "<div>\n",
       "<style scoped>\n",
       "    .dataframe tbody tr th:only-of-type {\n",
       "        vertical-align: middle;\n",
       "    }\n",
       "\n",
       "    .dataframe tbody tr th {\n",
       "        vertical-align: top;\n",
       "    }\n",
       "\n",
       "    .dataframe thead th {\n",
       "        text-align: right;\n",
       "    }\n",
       "</style>\n",
       "<table border=\"1\" class=\"dataframe\">\n",
       "  <thead>\n",
       "    <tr style=\"text-align: right;\">\n",
       "      <th></th>\n",
       "      <th>countryiso3code</th>\n",
       "      <th>date</th>\n",
       "      <th>value</th>\n",
       "      <th>unit</th>\n",
       "      <th>obs_status</th>\n",
       "      <th>decimal</th>\n",
       "      <th>indicator.id</th>\n",
       "      <th>indicator.value</th>\n",
       "      <th>country.id</th>\n",
       "      <th>country.value</th>\n",
       "    </tr>\n",
       "  </thead>\n",
       "  <tbody>\n",
       "    <tr>\n",
       "      <th>0</th>\n",
       "      <td>AFE</td>\n",
       "      <td>2023</td>\n",
       "      <td>1.956700</td>\n",
       "      <td></td>\n",
       "      <td></td>\n",
       "      <td>1</td>\n",
       "      <td>NV.IND.TOTL.KD.ZG</td>\n",
       "      <td>Industry (including construction), value added...</td>\n",
       "      <td>ZH</td>\n",
       "      <td>Africa Eastern and Southern</td>\n",
       "    </tr>\n",
       "    <tr>\n",
       "      <th>1</th>\n",
       "      <td>AFE</td>\n",
       "      <td>2022</td>\n",
       "      <td>2.693175</td>\n",
       "      <td></td>\n",
       "      <td></td>\n",
       "      <td>1</td>\n",
       "      <td>NV.IND.TOTL.KD.ZG</td>\n",
       "      <td>Industry (including construction), value added...</td>\n",
       "      <td>ZH</td>\n",
       "      <td>Africa Eastern and Southern</td>\n",
       "    </tr>\n",
       "    <tr>\n",
       "      <th>2</th>\n",
       "      <td>AFE</td>\n",
       "      <td>2021</td>\n",
       "      <td>4.335020</td>\n",
       "      <td></td>\n",
       "      <td></td>\n",
       "      <td>1</td>\n",
       "      <td>NV.IND.TOTL.KD.ZG</td>\n",
       "      <td>Industry (including construction), value added...</td>\n",
       "      <td>ZH</td>\n",
       "      <td>Africa Eastern and Southern</td>\n",
       "    </tr>\n",
       "    <tr>\n",
       "      <th>3</th>\n",
       "      <td>AFE</td>\n",
       "      <td>2020</td>\n",
       "      <td>-4.734432</td>\n",
       "      <td></td>\n",
       "      <td></td>\n",
       "      <td>1</td>\n",
       "      <td>NV.IND.TOTL.KD.ZG</td>\n",
       "      <td>Industry (including construction), value added...</td>\n",
       "      <td>ZH</td>\n",
       "      <td>Africa Eastern and Southern</td>\n",
       "    </tr>\n",
       "    <tr>\n",
       "      <th>4</th>\n",
       "      <td>AFE</td>\n",
       "      <td>2019</td>\n",
       "      <td>1.856316</td>\n",
       "      <td></td>\n",
       "      <td></td>\n",
       "      <td>1</td>\n",
       "      <td>NV.IND.TOTL.KD.ZG</td>\n",
       "      <td>Industry (including construction), value added...</td>\n",
       "      <td>ZH</td>\n",
       "      <td>Africa Eastern and Southern</td>\n",
       "    </tr>\n",
       "  </tbody>\n",
       "</table>\n",
       "</div>"
      ],
      "text/plain": [
       "  countryiso3code  date     value unit obs_status  decimal       indicator.id  \\\n",
       "0             AFE  2023  1.956700                        1  NV.IND.TOTL.KD.ZG   \n",
       "1             AFE  2022  2.693175                        1  NV.IND.TOTL.KD.ZG   \n",
       "2             AFE  2021  4.335020                        1  NV.IND.TOTL.KD.ZG   \n",
       "3             AFE  2020 -4.734432                        1  NV.IND.TOTL.KD.ZG   \n",
       "4             AFE  2019  1.856316                        1  NV.IND.TOTL.KD.ZG   \n",
       "\n",
       "                                     indicator.value country.id  \\\n",
       "0  Industry (including construction), value added...         ZH   \n",
       "1  Industry (including construction), value added...         ZH   \n",
       "2  Industry (including construction), value added...         ZH   \n",
       "3  Industry (including construction), value added...         ZH   \n",
       "4  Industry (including construction), value added...         ZH   \n",
       "\n",
       "                 country.value  \n",
       "0  Africa Eastern and Southern  \n",
       "1  Africa Eastern and Southern  \n",
       "2  Africa Eastern and Southern  \n",
       "3  Africa Eastern and Southern  \n",
       "4  Africa Eastern and Southern  "
      ]
     },
     "execution_count": 72,
     "metadata": {},
     "output_type": "execute_result"
    }
   ],
   "source": [
    "df_data.head()"
   ]
  },
  {
   "cell_type": "code",
   "execution_count": null,
   "metadata": {},
   "outputs": [],
   "source": []
  }
 ],
 "metadata": {
  "kernelspec": {
   "display_name": "abdullahs-etl",
   "language": "python",
   "name": "python3"
  },
  "language_info": {
   "codemirror_mode": {
    "name": "ipython",
    "version": 3
   },
   "file_extension": ".py",
   "mimetype": "text/x-python",
   "name": "python",
   "nbconvert_exporter": "python",
   "pygments_lexer": "ipython3",
   "version": "3.9.19"
  }
 },
 "nbformat": 4,
 "nbformat_minor": 2
}
