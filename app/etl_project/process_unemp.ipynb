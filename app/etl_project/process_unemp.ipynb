{
 "cells": [
  {
   "cell_type": "code",
   "execution_count": 8,
   "metadata": {},
   "outputs": [],
   "source": [
    "import requests\n",
    "import pandas as pd\n",
    "from datetime import datetime, timezone"
   ]
  },
  {
   "cell_type": "code",
   "execution_count": 26,
   "metadata": {},
   "outputs": [
    {
     "name": "stdout",
     "output_type": "stream",
     "text": [
      "[{'message': [{'id': '120', 'key': 'Invalid value', 'value': 'The provided parameter value is not valid'}]}]\n",
      "Empty DataFrame\n",
      "Columns: []\n",
      "Index: []\n"
     ]
    }
   ],
   "source": [
    "#https://api.worldbank.org/v2/country/all/indicator/SL.UEM.TOTL.NE.ZS?date=2024:2024\n",
    "#https://api.worldbank.org/v2/countries/all/indicators/SL.UEM.TOTL.ZS \n",
    "# use this to check api/metadata: https://api.worldbank.org/v2/countries/all/indicator/SL.UEM.TOTL.ZS?date=2023:2024&format=json&page=6\n",
    "indicator=\"SL.UEM.TOTL.ZS\"\n",
    "date_range = \"2023:2024\"\n",
    "#base_url = f\"https://api.worldbank.org/v2/countries/all/indicators/{indicator}?{date_range}&format=json\"\n",
    "base_url = f\"https://api.worldbank.org/v2/countries/all/indicators/{indicator}?\"\n",
    "params = {\n",
    "    \"date\": date_range,\n",
    "    \"format\": \"json\",\n",
    "    \"page\": 1  # Start at page 1\n",
    "}\n",
    "\n",
    "#response_data = []\n",
    "all_data = []\n",
    "\n",
    "while True:\n",
    "    response = requests.get(base_url, params=params)\n",
    "    response_data = response.json()\n",
    "    print(response_data)\n",
    "    if len(response_data) < 2 or not response_data[1]:  # Check if there's data\n",
    "        break\n",
    "    \n",
    "    all_data.extend(response_data[1])  # Add current page data to all_data\n",
    "    \n",
    "    # Update parameters for the next page\n",
    "    params[\"page\"] += 1\n",
    "\n",
    "df_unemployment = pd.json_normalize(data=all_data)\n",
    "\n",
    "print(df_unemployment)"
   ]
  },
  {
   "cell_type": "code",
   "execution_count": 19,
   "metadata": {},
   "outputs": [],
   "source": [
    "# Separate the metadata and records\n",
    "#metadata = all_data[0]\n",
    "#records = all_data[1]\n",
    "df_unemployment = pd.json_normalize(data=all_data)\n"
   ]
  },
  {
   "cell_type": "code",
   "execution_count": 23,
   "metadata": {},
   "outputs": [
    {
     "name": "stdout",
     "output_type": "stream",
     "text": [
      "Empty DataFrame\n",
      "Columns: []\n",
      "Index: []\n"
     ]
    }
   ],
   "source": [
    "df_unemployment.columns\n",
    "print(df_unemployment)"
   ]
  },
  {
   "cell_type": "code",
   "execution_count": 21,
   "metadata": {},
   "outputs": [
    {
     "data": {
      "text/html": [
       "<div>\n",
       "<style scoped>\n",
       "    .dataframe tbody tr th:only-of-type {\n",
       "        vertical-align: middle;\n",
       "    }\n",
       "\n",
       "    .dataframe tbody tr th {\n",
       "        vertical-align: top;\n",
       "    }\n",
       "\n",
       "    .dataframe thead th {\n",
       "        text-align: right;\n",
       "    }\n",
       "</style>\n",
       "<table border=\"1\" class=\"dataframe\">\n",
       "  <thead>\n",
       "    <tr style=\"text-align: right;\">\n",
       "      <th></th>\n",
       "    </tr>\n",
       "  </thead>\n",
       "  <tbody>\n",
       "  </tbody>\n",
       "</table>\n",
       "</div>"
      ],
      "text/plain": [
       "Empty DataFrame\n",
       "Columns: []\n",
       "Index: []"
      ]
     },
     "execution_count": 21,
     "metadata": {},
     "output_type": "execute_result"
    }
   ],
   "source": [
    "df_unemployment.head() "
   ]
  },
  {
   "cell_type": "code",
   "execution_count": 16,
   "metadata": {},
   "outputs": [
    {
     "data": {
      "text/html": [
       "<div>\n",
       "<style scoped>\n",
       "    .dataframe tbody tr th:only-of-type {\n",
       "        vertical-align: middle;\n",
       "    }\n",
       "\n",
       "    .dataframe tbody tr th {\n",
       "        vertical-align: top;\n",
       "    }\n",
       "\n",
       "    .dataframe thead th {\n",
       "        text-align: right;\n",
       "    }\n",
       "</style>\n",
       "<table border=\"1\" class=\"dataframe\">\n",
       "  <thead>\n",
       "    <tr style=\"text-align: right;\">\n",
       "      <th></th>\n",
       "      <th>countryiso3code</th>\n",
       "      <th>date</th>\n",
       "      <th>value</th>\n",
       "      <th>unit</th>\n",
       "      <th>obs_status</th>\n",
       "      <th>decimal</th>\n",
       "      <th>indicator.id</th>\n",
       "      <th>indicator.value</th>\n",
       "      <th>country.id</th>\n",
       "      <th>country.value</th>\n",
       "    </tr>\n",
       "  </thead>\n",
       "  <tbody>\n",
       "  </tbody>\n",
       "</table>\n",
       "</div>"
      ],
      "text/plain": [
       "Empty DataFrame\n",
       "Columns: [countryiso3code, date, value, unit, obs_status, decimal, indicator.id, indicator.value, country.id, country.value]\n",
       "Index: []"
      ]
     },
     "execution_count": 16,
     "metadata": {},
     "output_type": "execute_result"
    }
   ],
   "source": [
    "#print(df_unemployment[\"countryiso3code\"])\n",
    "df_unemployment.loc[df_unemployment['countryiso3code'] == 'SGP'] #dunno why not there... \n",
    "df_unemployment.loc[df_unemployment['countryiso3code'] == 'SG']"
   ]
  },
  {
   "cell_type": "code",
   "execution_count": 17,
   "metadata": {},
   "outputs": [
    {
     "name": "stdout",
     "output_type": "stream",
     "text": [
      "0     AFE\n",
      "1     AFW\n",
      "2     ARB\n",
      "3     CSS\n",
      "4     CEB\n",
      "5     EAR\n",
      "6     EAS\n",
      "7     EAP\n",
      "8     TEA\n",
      "9     EMU\n",
      "10    ECS\n",
      "11    ECA\n",
      "12    TEC\n",
      "13    EUU\n",
      "14    FCS\n",
      "15    HPC\n",
      "16       \n",
      "17    IBD\n",
      "18    IBT\n",
      "19    IDB\n",
      "20    IDX\n",
      "21    IDA\n",
      "22    LTE\n",
      "23    LCN\n",
      "24    LAC\n",
      "25    TLA\n",
      "26    LDC\n",
      "27    LMY\n",
      "28       \n",
      "29       \n",
      "30    MEA\n",
      "31    MNA\n",
      "32    TMN\n",
      "33    MIC\n",
      "34    NAC\n",
      "35       \n",
      "36    OED\n",
      "37    OSS\n",
      "38    PSS\n",
      "39    PST\n",
      "40    PRE\n",
      "41    SST\n",
      "42    SAS\n",
      "43    TSA\n",
      "44    SSF\n",
      "45    SSA\n",
      "46    TSS\n",
      "47       \n",
      "48    WLD\n",
      "49    AFG\n",
      "Name: countryiso3code, dtype: object\n"
     ]
    }
   ],
   "source": [
    "print(df_unemployment[\"countryiso3code\"])"
   ]
  }
 ],
 "metadata": {
  "kernelspec": {
   "display_name": "my_etl",
   "language": "python",
   "name": "python3"
  },
  "language_info": {
   "codemirror_mode": {
    "name": "ipython",
    "version": 3
   },
   "file_extension": ".py",
   "mimetype": "text/x-python",
   "name": "python",
   "nbconvert_exporter": "python",
   "pygments_lexer": "ipython3",
   "version": "3.9.19"
  }
 },
 "nbformat": 4,
 "nbformat_minor": 2
}
