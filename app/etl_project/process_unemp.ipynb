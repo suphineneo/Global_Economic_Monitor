{
 "cells": [
  {
   "cell_type": "code",
   "execution_count": 3,
   "metadata": {},
   "outputs": [],
   "source": [
    "import requests\n",
    "import pandas as pd\n",
    "from datetime import datetime, timezone"
   ]
  },
  {
   "cell_type": "code",
   "execution_count": 4,
   "metadata": {},
   "outputs": [
    {
     "name": "stdout",
     "output_type": "stream",
     "text": [
      "    countryiso3code  date      value unit obs_status  decimal    indicator.id  \\\n",
      "0               AFE  2023   7.472824                        1  SL.UEM.TOTL.ZS   \n",
      "1               AFW  2023   3.397782                        1  SL.UEM.TOTL.ZS   \n",
      "2               ARB  2023   9.878318                        1  SL.UEM.TOTL.ZS   \n",
      "3               CSS  2023   9.913604                        1  SL.UEM.TOTL.ZS   \n",
      "4               CEB  2023   4.081257                        1  SL.UEM.TOTL.ZS   \n",
      "..              ...   ...        ...  ...        ...      ...             ...   \n",
      "261             VIR  2023  12.087000                        1  SL.UEM.TOTL.ZS   \n",
      "262             PSE  2023        NaN                        1  SL.UEM.TOTL.ZS   \n",
      "263             YEM  2023  17.215000                        1  SL.UEM.TOTL.ZS   \n",
      "264             ZMB  2023   5.913000                        1  SL.UEM.TOTL.ZS   \n",
      "265             ZWE  2023   8.759000                        1  SL.UEM.TOTL.ZS   \n",
      "\n",
      "                                       indicator.value country.id  \\\n",
      "0    Unemployment, total (% of total labor force) (...         ZH   \n",
      "1    Unemployment, total (% of total labor force) (...         ZI   \n",
      "2    Unemployment, total (% of total labor force) (...         1A   \n",
      "3    Unemployment, total (% of total labor force) (...         S3   \n",
      "4    Unemployment, total (% of total labor force) (...         B8   \n",
      "..                                                 ...        ...   \n",
      "261  Unemployment, total (% of total labor force) (...         VI   \n",
      "262  Unemployment, total (% of total labor force) (...         PS   \n",
      "263  Unemployment, total (% of total labor force) (...         YE   \n",
      "264  Unemployment, total (% of total labor force) (...         ZM   \n",
      "265  Unemployment, total (% of total labor force) (...         ZW   \n",
      "\n",
      "                      country.value  \n",
      "0       Africa Eastern and Southern  \n",
      "1        Africa Western and Central  \n",
      "2                        Arab World  \n",
      "3            Caribbean small states  \n",
      "4    Central Europe and the Baltics  \n",
      "..                              ...  \n",
      "261           Virgin Islands (U.S.)  \n",
      "262              West Bank and Gaza  \n",
      "263                     Yemen, Rep.  \n",
      "264                          Zambia  \n",
      "265                        Zimbabwe  \n",
      "\n",
      "[266 rows x 10 columns]\n"
     ]
    }
   ],
   "source": [
    "#https://api.worldbank.org/v2/country/all/indicator/SL.UEM.TOTL.NE.ZS?date=2024:2024\n",
    "#https://api.worldbank.org/v2/countries/all/indicators/SL.UEM.TOTL.ZS \n",
    "# use this to check api/metadata: https://api.worldbank.org/v2/countries/all/indicator/SL.UEM.TOTL.ZS?date=2023:2024&format=json&page=6\n",
    "indicator=\"SL.UEM.TOTL.ZS\"\n",
    "date_range = \"2023:2024\"\n",
    "#base_url = f\"https://api.worldbank.org/v2/countries/all/indicators/{indicator}?{date_range}&format=json\"\n",
    "base_url = f\"https://api.worldbank.org/v2/countries/all/indicators/{indicator}?\"\n",
    "params = {\n",
    "    \"date\": date_range,\n",
    "    \"format\": \"json\",\n",
    "    \"page\": 1  # Start at page 1\n",
    "}\n",
    "\n",
    "#response_data = []\n",
    "all_data = []\n",
    "\n",
    "while True:\n",
    "    response = requests.get(base_url, params=params)\n",
    "    response_data = response.json()\n",
    "    \n",
    "    if len(response_data) < 2 or not response_data[1]:  # Check if there's data\n",
    "        break\n",
    "    \n",
    "    all_data.extend(response_data[1])  # Add current page data to all_data\n",
    "    \n",
    "    # Update parameters for the next page\n",
    "    params[\"page\"] += 1\n",
    "\n",
    "df_unemployment = pd.json_normalize(data=all_data)\n",
    "\n",
    "print(df_unemployment)"
   ]
  },
  {
   "cell_type": "code",
   "execution_count": 19,
   "metadata": {},
   "outputs": [],
   "source": [
    "# Separate the metadata and records\n",
    "#metadata = all_data[0]\n",
    "#records = all_data[1]\n",
    "#df_unemployment = pd.json_normalize(data=all_data)\n"
   ]
  },
  {
   "cell_type": "code",
   "execution_count": 28,
   "metadata": {},
   "outputs": [
    {
     "data": {
      "text/plain": [
       "Index(['countryiso3code', 'date', 'value', 'unit', 'obs_status', 'decimal',\n",
       "       'indicator.id', 'indicator.value', 'country.id', 'country.value'],\n",
       "      dtype='object')"
      ]
     },
     "execution_count": 28,
     "metadata": {},
     "output_type": "execute_result"
    }
   ],
   "source": [
    "df_unemployment.columns\n"
   ]
  },
  {
   "cell_type": "code",
   "execution_count": 29,
   "metadata": {},
   "outputs": [
    {
     "data": {
      "text/html": [
       "<div>\n",
       "<style scoped>\n",
       "    .dataframe tbody tr th:only-of-type {\n",
       "        vertical-align: middle;\n",
       "    }\n",
       "\n",
       "    .dataframe tbody tr th {\n",
       "        vertical-align: top;\n",
       "    }\n",
       "\n",
       "    .dataframe thead th {\n",
       "        text-align: right;\n",
       "    }\n",
       "</style>\n",
       "<table border=\"1\" class=\"dataframe\">\n",
       "  <thead>\n",
       "    <tr style=\"text-align: right;\">\n",
       "      <th></th>\n",
       "      <th>countryiso3code</th>\n",
       "      <th>date</th>\n",
       "      <th>value</th>\n",
       "      <th>unit</th>\n",
       "      <th>obs_status</th>\n",
       "      <th>decimal</th>\n",
       "      <th>indicator.id</th>\n",
       "      <th>indicator.value</th>\n",
       "      <th>country.id</th>\n",
       "      <th>country.value</th>\n",
       "    </tr>\n",
       "  </thead>\n",
       "  <tbody>\n",
       "    <tr>\n",
       "      <th>0</th>\n",
       "      <td>AFE</td>\n",
       "      <td>2023</td>\n",
       "      <td>7.472824</td>\n",
       "      <td></td>\n",
       "      <td></td>\n",
       "      <td>1</td>\n",
       "      <td>SL.UEM.TOTL.ZS</td>\n",
       "      <td>Unemployment, total (% of total labor force) (...</td>\n",
       "      <td>ZH</td>\n",
       "      <td>Africa Eastern and Southern</td>\n",
       "    </tr>\n",
       "    <tr>\n",
       "      <th>1</th>\n",
       "      <td>AFW</td>\n",
       "      <td>2023</td>\n",
       "      <td>3.397782</td>\n",
       "      <td></td>\n",
       "      <td></td>\n",
       "      <td>1</td>\n",
       "      <td>SL.UEM.TOTL.ZS</td>\n",
       "      <td>Unemployment, total (% of total labor force) (...</td>\n",
       "      <td>ZI</td>\n",
       "      <td>Africa Western and Central</td>\n",
       "    </tr>\n",
       "    <tr>\n",
       "      <th>2</th>\n",
       "      <td>ARB</td>\n",
       "      <td>2023</td>\n",
       "      <td>9.878318</td>\n",
       "      <td></td>\n",
       "      <td></td>\n",
       "      <td>1</td>\n",
       "      <td>SL.UEM.TOTL.ZS</td>\n",
       "      <td>Unemployment, total (% of total labor force) (...</td>\n",
       "      <td>1A</td>\n",
       "      <td>Arab World</td>\n",
       "    </tr>\n",
       "    <tr>\n",
       "      <th>3</th>\n",
       "      <td>CSS</td>\n",
       "      <td>2023</td>\n",
       "      <td>9.913604</td>\n",
       "      <td></td>\n",
       "      <td></td>\n",
       "      <td>1</td>\n",
       "      <td>SL.UEM.TOTL.ZS</td>\n",
       "      <td>Unemployment, total (% of total labor force) (...</td>\n",
       "      <td>S3</td>\n",
       "      <td>Caribbean small states</td>\n",
       "    </tr>\n",
       "    <tr>\n",
       "      <th>4</th>\n",
       "      <td>CEB</td>\n",
       "      <td>2023</td>\n",
       "      <td>4.081257</td>\n",
       "      <td></td>\n",
       "      <td></td>\n",
       "      <td>1</td>\n",
       "      <td>SL.UEM.TOTL.ZS</td>\n",
       "      <td>Unemployment, total (% of total labor force) (...</td>\n",
       "      <td>B8</td>\n",
       "      <td>Central Europe and the Baltics</td>\n",
       "    </tr>\n",
       "  </tbody>\n",
       "</table>\n",
       "</div>"
      ],
      "text/plain": [
       "  countryiso3code  date     value unit obs_status  decimal    indicator.id  \\\n",
       "0             AFE  2023  7.472824                        1  SL.UEM.TOTL.ZS   \n",
       "1             AFW  2023  3.397782                        1  SL.UEM.TOTL.ZS   \n",
       "2             ARB  2023  9.878318                        1  SL.UEM.TOTL.ZS   \n",
       "3             CSS  2023  9.913604                        1  SL.UEM.TOTL.ZS   \n",
       "4             CEB  2023  4.081257                        1  SL.UEM.TOTL.ZS   \n",
       "\n",
       "                                     indicator.value country.id  \\\n",
       "0  Unemployment, total (% of total labor force) (...         ZH   \n",
       "1  Unemployment, total (% of total labor force) (...         ZI   \n",
       "2  Unemployment, total (% of total labor force) (...         1A   \n",
       "3  Unemployment, total (% of total labor force) (...         S3   \n",
       "4  Unemployment, total (% of total labor force) (...         B8   \n",
       "\n",
       "                    country.value  \n",
       "0     Africa Eastern and Southern  \n",
       "1      Africa Western and Central  \n",
       "2                      Arab World  \n",
       "3          Caribbean small states  \n",
       "4  Central Europe and the Baltics  "
      ]
     },
     "execution_count": 29,
     "metadata": {},
     "output_type": "execute_result"
    }
   ],
   "source": [
    "df_unemployment.head() "
   ]
  },
  {
   "cell_type": "code",
   "execution_count": 31,
   "metadata": {},
   "outputs": [
    {
     "data": {
      "text/html": [
       "<div>\n",
       "<style scoped>\n",
       "    .dataframe tbody tr th:only-of-type {\n",
       "        vertical-align: middle;\n",
       "    }\n",
       "\n",
       "    .dataframe tbody tr th {\n",
       "        vertical-align: top;\n",
       "    }\n",
       "\n",
       "    .dataframe thead th {\n",
       "        text-align: right;\n",
       "    }\n",
       "</style>\n",
       "<table border=\"1\" class=\"dataframe\">\n",
       "  <thead>\n",
       "    <tr style=\"text-align: right;\">\n",
       "      <th></th>\n",
       "      <th>countryiso3code</th>\n",
       "      <th>date</th>\n",
       "      <th>value</th>\n",
       "      <th>unit</th>\n",
       "      <th>obs_status</th>\n",
       "      <th>decimal</th>\n",
       "      <th>indicator.id</th>\n",
       "      <th>indicator.value</th>\n",
       "      <th>country.id</th>\n",
       "      <th>country.value</th>\n",
       "    </tr>\n",
       "  </thead>\n",
       "  <tbody>\n",
       "    <tr>\n",
       "      <th>220</th>\n",
       "      <td>SGP</td>\n",
       "      <td>2023</td>\n",
       "      <td>3.472</td>\n",
       "      <td></td>\n",
       "      <td></td>\n",
       "      <td>1</td>\n",
       "      <td>SL.UEM.TOTL.ZS</td>\n",
       "      <td>Unemployment, total (% of total labor force) (...</td>\n",
       "      <td>SG</td>\n",
       "      <td>Singapore</td>\n",
       "    </tr>\n",
       "  </tbody>\n",
       "</table>\n",
       "</div>"
      ],
      "text/plain": [
       "    countryiso3code  date  value unit obs_status  decimal    indicator.id  \\\n",
       "220             SGP  2023  3.472                        1  SL.UEM.TOTL.ZS   \n",
       "\n",
       "                                       indicator.value country.id  \\\n",
       "220  Unemployment, total (% of total labor force) (...         SG   \n",
       "\n",
       "    country.value  \n",
       "220     Singapore  "
      ]
     },
     "execution_count": 31,
     "metadata": {},
     "output_type": "execute_result"
    }
   ],
   "source": [
    "#print(df_unemployment[\"countryiso3code\"])\n",
    "df_unemployment.loc[df_unemployment['countryiso3code'] == 'SGP'] #dunno why not there... \n"
   ]
  },
  {
   "cell_type": "code",
   "execution_count": 32,
   "metadata": {},
   "outputs": [
    {
     "name": "stdout",
     "output_type": "stream",
     "text": [
      "0      AFE\n",
      "1      AFW\n",
      "2      ARB\n",
      "3      CSS\n",
      "4      CEB\n",
      "      ... \n",
      "261    VIR\n",
      "262    PSE\n",
      "263    YEM\n",
      "264    ZMB\n",
      "265    ZWE\n",
      "Name: countryiso3code, Length: 266, dtype: object\n"
     ]
    }
   ],
   "source": [
    "print(df_unemployment[\"countryiso3code\"])"
   ]
  },
  {
   "cell_type": "code",
   "execution_count": 1,
   "metadata": {},
   "outputs": [
    {
     "name": "stdout",
     "output_type": "stream",
     "text": [
      "Requirement already satisfied: openpyxl in c:\\users\\neosu\\anaconda3\\envs\\my_etl\\lib\\site-packages (3.1.5)\n",
      "Requirement already satisfied: et-xmlfile in c:\\users\\neosu\\anaconda3\\envs\\my_etl\\lib\\site-packages (from openpyxl) (1.1.0)\n",
      "Note: you may need to restart the kernel to use updated packages.\n"
     ]
    }
   ],
   "source": [
    "pip install openpyxl"
   ]
  },
  {
   "cell_type": "code",
   "execution_count": 5,
   "metadata": {},
   "outputs": [
    {
     "name": "stderr",
     "output_type": "stream",
     "text": [
      "C:\\Users\\neosu\\AppData\\Local\\Temp\\ipykernel_31196\\3730372455.py:1: FutureWarning: As the xlwt package is no longer maintained, the xlwt engine will be removed in a future version of pandas. This is the only engine in pandas that supports writing in the xls format. Install openpyxl and write to an xlsx file instead. You can set the option io.excel.xls.writer to 'xlwt' to silence this warning. While this option is deprecated and will also raise a warning, it can be globally set and the warning suppressed.\n",
      "  df_unemployment.to_excel(\"data/suph_export_unemp_from api.xls\")\n"
     ]
    },
    {
     "ename": "ModuleNotFoundError",
     "evalue": "No module named 'xlwt'",
     "output_type": "error",
     "traceback": [
      "\u001b[1;31m---------------------------------------------------------------------------\u001b[0m",
      "\u001b[1;31mModuleNotFoundError\u001b[0m                       Traceback (most recent call last)",
      "Cell \u001b[1;32mIn[5], line 1\u001b[0m\n\u001b[1;32m----> 1\u001b[0m \u001b[43mdf_unemployment\u001b[49m\u001b[38;5;241;43m.\u001b[39;49m\u001b[43mto_excel\u001b[49m\u001b[43m(\u001b[49m\u001b[38;5;124;43m\"\u001b[39;49m\u001b[38;5;124;43mdata/suph_export_unemp_from api.xls\u001b[39;49m\u001b[38;5;124;43m\"\u001b[39;49m\u001b[43m)\u001b[49m\n",
      "File \u001b[1;32mc:\\Users\\neosu\\anaconda3\\envs\\my_etl\\lib\\site-packages\\pandas\\core\\generic.py:2345\u001b[0m, in \u001b[0;36mNDFrame.to_excel\u001b[1;34m(self, excel_writer, sheet_name, na_rep, float_format, columns, header, index, index_label, startrow, startcol, engine, merge_cells, encoding, inf_rep, verbose, freeze_panes, storage_options)\u001b[0m\n\u001b[0;32m   2332\u001b[0m \u001b[38;5;28;01mfrom\u001b[39;00m \u001b[38;5;21;01mpandas\u001b[39;00m\u001b[38;5;21;01m.\u001b[39;00m\u001b[38;5;21;01mio\u001b[39;00m\u001b[38;5;21;01m.\u001b[39;00m\u001b[38;5;21;01mformats\u001b[39;00m\u001b[38;5;21;01m.\u001b[39;00m\u001b[38;5;21;01mexcel\u001b[39;00m \u001b[38;5;28;01mimport\u001b[39;00m ExcelFormatter\n\u001b[0;32m   2334\u001b[0m formatter \u001b[38;5;241m=\u001b[39m ExcelFormatter(\n\u001b[0;32m   2335\u001b[0m     df,\n\u001b[0;32m   2336\u001b[0m     na_rep\u001b[38;5;241m=\u001b[39mna_rep,\n\u001b[1;32m   (...)\u001b[0m\n\u001b[0;32m   2343\u001b[0m     inf_rep\u001b[38;5;241m=\u001b[39minf_rep,\n\u001b[0;32m   2344\u001b[0m )\n\u001b[1;32m-> 2345\u001b[0m \u001b[43mformatter\u001b[49m\u001b[38;5;241;43m.\u001b[39;49m\u001b[43mwrite\u001b[49m\u001b[43m(\u001b[49m\n\u001b[0;32m   2346\u001b[0m \u001b[43m    \u001b[49m\u001b[43mexcel_writer\u001b[49m\u001b[43m,\u001b[49m\n\u001b[0;32m   2347\u001b[0m \u001b[43m    \u001b[49m\u001b[43msheet_name\u001b[49m\u001b[38;5;241;43m=\u001b[39;49m\u001b[43msheet_name\u001b[49m\u001b[43m,\u001b[49m\n\u001b[0;32m   2348\u001b[0m \u001b[43m    \u001b[49m\u001b[43mstartrow\u001b[49m\u001b[38;5;241;43m=\u001b[39;49m\u001b[43mstartrow\u001b[49m\u001b[43m,\u001b[49m\n\u001b[0;32m   2349\u001b[0m \u001b[43m    \u001b[49m\u001b[43mstartcol\u001b[49m\u001b[38;5;241;43m=\u001b[39;49m\u001b[43mstartcol\u001b[49m\u001b[43m,\u001b[49m\n\u001b[0;32m   2350\u001b[0m \u001b[43m    \u001b[49m\u001b[43mfreeze_panes\u001b[49m\u001b[38;5;241;43m=\u001b[39;49m\u001b[43mfreeze_panes\u001b[49m\u001b[43m,\u001b[49m\n\u001b[0;32m   2351\u001b[0m \u001b[43m    \u001b[49m\u001b[43mengine\u001b[49m\u001b[38;5;241;43m=\u001b[39;49m\u001b[43mengine\u001b[49m\u001b[43m,\u001b[49m\n\u001b[0;32m   2352\u001b[0m \u001b[43m    \u001b[49m\u001b[43mstorage_options\u001b[49m\u001b[38;5;241;43m=\u001b[39;49m\u001b[43mstorage_options\u001b[49m\u001b[43m,\u001b[49m\n\u001b[0;32m   2353\u001b[0m \u001b[43m\u001b[49m\u001b[43m)\u001b[49m\n",
      "File \u001b[1;32mc:\\Users\\neosu\\anaconda3\\envs\\my_etl\\lib\\site-packages\\pandas\\io\\formats\\excel.py:888\u001b[0m, in \u001b[0;36mExcelFormatter.write\u001b[1;34m(self, writer, sheet_name, startrow, startcol, freeze_panes, engine, storage_options)\u001b[0m\n\u001b[0;32m    884\u001b[0m     need_save \u001b[38;5;241m=\u001b[39m \u001b[38;5;28;01mFalse\u001b[39;00m\n\u001b[0;32m    885\u001b[0m \u001b[38;5;28;01melse\u001b[39;00m:\n\u001b[0;32m    886\u001b[0m     \u001b[38;5;66;03m# error: Cannot instantiate abstract class 'ExcelWriter' with abstract\u001b[39;00m\n\u001b[0;32m    887\u001b[0m     \u001b[38;5;66;03m# attributes 'engine', 'save', 'supported_extensions' and 'write_cells'\u001b[39;00m\n\u001b[1;32m--> 888\u001b[0m     writer \u001b[38;5;241m=\u001b[39m \u001b[43mExcelWriter\u001b[49m\u001b[43m(\u001b[49m\u001b[43m  \u001b[49m\u001b[38;5;66;43;03m# type: ignore[abstract]\u001b[39;49;00m\n\u001b[0;32m    889\u001b[0m \u001b[43m        \u001b[49m\u001b[43mwriter\u001b[49m\u001b[43m,\u001b[49m\u001b[43m \u001b[49m\u001b[43mengine\u001b[49m\u001b[38;5;241;43m=\u001b[39;49m\u001b[43mengine\u001b[49m\u001b[43m,\u001b[49m\u001b[43m \u001b[49m\u001b[43mstorage_options\u001b[49m\u001b[38;5;241;43m=\u001b[39;49m\u001b[43mstorage_options\u001b[49m\n\u001b[0;32m    890\u001b[0m \u001b[43m    \u001b[49m\u001b[43m)\u001b[49m\n\u001b[0;32m    891\u001b[0m     need_save \u001b[38;5;241m=\u001b[39m \u001b[38;5;28;01mTrue\u001b[39;00m\n\u001b[0;32m    893\u001b[0m \u001b[38;5;28;01mtry\u001b[39;00m:\n",
      "File \u001b[1;32mc:\\Users\\neosu\\anaconda3\\envs\\my_etl\\lib\\site-packages\\pandas\\io\\excel\\_xlwt.py:39\u001b[0m, in \u001b[0;36mXlwtWriter.__init__\u001b[1;34m(self, path, engine, date_format, datetime_format, encoding, mode, storage_options, if_sheet_exists, engine_kwargs, **kwargs)\u001b[0m\n\u001b[0;32m     25\u001b[0m \u001b[38;5;28;01mdef\u001b[39;00m \u001b[38;5;21m__init__\u001b[39m(\n\u001b[0;32m     26\u001b[0m     \u001b[38;5;28mself\u001b[39m,\n\u001b[0;32m     27\u001b[0m     path,\n\u001b[1;32m   (...)\u001b[0m\n\u001b[0;32m     37\u001b[0m ):\n\u001b[0;32m     38\u001b[0m     \u001b[38;5;66;03m# Use the xlwt module as the Excel writer.\u001b[39;00m\n\u001b[1;32m---> 39\u001b[0m     \u001b[38;5;28;01mimport\u001b[39;00m \u001b[38;5;21;01mxlwt\u001b[39;00m\n\u001b[0;32m     41\u001b[0m     engine_kwargs \u001b[38;5;241m=\u001b[39m combine_kwargs(engine_kwargs, kwargs)\n\u001b[0;32m     43\u001b[0m     \u001b[38;5;28;01mif\u001b[39;00m mode \u001b[38;5;241m==\u001b[39m \u001b[38;5;124m\"\u001b[39m\u001b[38;5;124ma\u001b[39m\u001b[38;5;124m\"\u001b[39m:\n",
      "\u001b[1;31mModuleNotFoundError\u001b[0m: No module named 'xlwt'"
     ]
    }
   ],
   "source": [
    "\n",
    "df_unemployment.to_excel(\"data/suph_export_unemp_from api.xls\")"
   ]
  }
 ],
 "metadata": {
  "kernelspec": {
   "display_name": "my_etl",
   "language": "python",
   "name": "python3"
  },
  "language_info": {
   "codemirror_mode": {
    "name": "ipython",
    "version": 3
   },
   "file_extension": ".py",
   "mimetype": "text/x-python",
   "name": "python",
   "nbconvert_exporter": "python",
   "pygments_lexer": "ipython3",
   "version": "3.9.19"
  }
 },
 "nbformat": 4,
 "nbformat_minor": 2
}
