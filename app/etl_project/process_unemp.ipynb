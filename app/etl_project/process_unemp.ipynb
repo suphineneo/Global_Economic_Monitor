{
 "cells": [
  {
   "cell_type": "code",
   "execution_count": 19,
   "metadata": {},
   "outputs": [],
   "source": [
    "import requests\n",
    "import pandas as pd\n",
    "from datetime import datetime, timezone"
   ]
  },
  {
   "cell_type": "code",
   "execution_count": null,
   "metadata": {},
   "outputs": [],
   "source": [
    "#https://api.worldbank.org/v2/country/all/indicator/SL.UEM.TOTL.NE.ZS?date=2024:2024\n",
    "#https://api.worldbank.org/v2/countries/all/indicators/SL.UEM.TOTL.ZS \n",
    "# use this to check api/metadata: https://api.worldbank.org/v2/countries/all/indicator/SL.UEM.TOTL.ZS?date=2023:2024&format=json&page=6\n",
    "indicator=\"SL.UEM.TOTL.ZS\"\n",
    "date_range = \"2022:2023\"\n",
    "#base_url = f\"https://api.worldbank.org/v2/countries/all/indicators/{indicator}?{date_range}&format=json\"\n",
    "base_url = f\"https://api.worldbank.org/v2/countries/all/indicators/{indicator}?\"\n",
    "params = {\n",
    "    \"date\": date_range,\n",
    "    \"format\": \"json\",\n",
    "    \"page\": 1  # Start at page 1\n",
    "}\n",
    "\n",
    "#response_data = []\n",
    "all_data = []\n",
    "\n",
    "while True:\n",
    "    response = requests.get(base_url, params=params)\n",
    "    response_data = response.json()\n",
    "    \n",
    "    if len(response_data) < 2 or not response_data[1]:  # Check if there's data\n",
    "        break\n",
    "    \n",
    "    all_data.extend(response_data[1])  # Add current page data to all_data\n",
    "    \n",
    "    # Update parameters for the next page\n",
    "    params[\"page\"] += 1\n",
    "\n",
    "df_unemployment = pd.json_normalize(data=all_data)\n",
    "\n",
    "print(df_unemployment)"
   ]
  },
  {
   "cell_type": "code",
   "execution_count": 19,
   "metadata": {},
   "outputs": [],
   "source": [
    "# Separate the metadata and records\n",
    "#metadata = all_data[0]\n",
    "#records = all_data[1]\n",
    "#df_unemployment = pd.json_normalize(data=all_data)\n"
   ]
  },
  {
   "cell_type": "code",
   "execution_count": null,
   "metadata": {},
   "outputs": [],
   "source": [
    "df_unemployment.columns\n",
    "\n",
    "df_unemployment.dtypes\n",
    "df_unemployment.info()"
   ]
  },
  {
   "cell_type": "code",
   "execution_count": null,
   "metadata": {},
   "outputs": [],
   "source": [
    "df_unemployment['country.value'].astype(str)"
   ]
  },
  {
   "cell_type": "code",
   "execution_count": null,
   "metadata": {},
   "outputs": [],
   "source": [
    "df_unemployment.head() \n",
    "\n"
   ]
  },
  {
   "cell_type": "code",
   "execution_count": null,
   "metadata": {},
   "outputs": [],
   "source": [
    "#print(df_unemployment[\"countryiso3code\"])\n",
    "df_unemployment.loc[df_unemployment['countryiso3code'] == 'SGP'] \n"
   ]
  },
  {
   "cell_type": "code",
   "execution_count": 17,
   "metadata": {},
   "outputs": [],
   "source": [
    "\n",
    "df_unemployment.to_excel(\"data/suph_export_unemp_from api.xlsx\")"
   ]
  }
 ],
 "metadata": {
  "kernelspec": {
   "display_name": "my_etl",
   "language": "python",
   "name": "python3"
  },
  "language_info": {
   "codemirror_mode": {
    "name": "ipython",
    "version": 3
   },
   "file_extension": ".py",
   "mimetype": "text/x-python",
   "name": "python",
   "nbconvert_exporter": "python",
   "pygments_lexer": "ipython3",
   "version": "3.9.19"
  }
 },
 "nbformat": 4,
 "nbformat_minor": 2
}
