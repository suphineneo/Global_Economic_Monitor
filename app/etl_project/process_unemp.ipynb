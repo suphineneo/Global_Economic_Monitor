{
 "cells": [
  {
   "cell_type": "code",
   "execution_count": 8,
   "metadata": {},
   "outputs": [],
   "source": [
    "import requests\n",
    "import pandas as pd\n",
    "from datetime import datetime, timezone"
   ]
  },
  {
   "cell_type": "code",
   "execution_count": 9,
   "metadata": {},
   "outputs": [],
   "source": [
    "#https://api.worldbank.org/v2/country/all/indicator/SL.UEM.TOTL.NE.ZS?date=2024:2024\n",
    "#https://api.worldbank.org/v2/countries/all/indicators/SL.UEM.TOTL.ZS \n",
    "# use this to check api/metadata: https://api.worldbank.org/v2/countries/all/indicator/SL.UEM.TOTL.ZS?date=2023:2024&format=json&page=6\n",
    "indicator=\"SL.UEM.TOTL.ZS\"\n",
    "date_range = \"2023:2023\"\n",
    "#base_url = f\"https://api.worldbank.org/v2/countries/all/indicators/{indicator}?{date_range}&format=json\"\n",
    "base_url = f\"https://api.worldbank.org/v2/countries/all/indicators/{indicator}?\"\n",
    "params = {\n",
    "    \"date\": date_range,\n",
    "    \"format\": \"json\",\n",
    "    \"page\": 1  # Start at page 1\n",
    "}\n",
    "\n",
    "#response_data = []\n",
    "all_data = []\n",
    "\n",
    "while True:\n",
    "    response = requests.get(base_url, params=params)\n",
    "    response_data = response.json()\n",
    "    \n",
    "    if len(response_data) < 2 or not response_data[1]:  # Check if there's data\n",
    "        break\n",
    "    \n",
    "    all_data.extend(response_data[1])  # Add current page data to all_data\n",
    "    \n",
    "    # Update parameters for the next page\n",
    "    params[\"page\"] += 1\n",
    "\n",
    "df_unemployment = pd.json_normalize(data=all_data)\n",
    "\n"
   ]
  },
  {
   "cell_type": "code",
   "execution_count": 10,
   "metadata": {},
   "outputs": [
    {
     "name": "stdout",
     "output_type": "stream",
     "text": [
      "266\n"
     ]
    }
   ],
   "source": [
    "print(len(df_unemployment))\n"
   ]
  },
  {
   "cell_type": "code",
   "execution_count": 11,
   "metadata": {},
   "outputs": [
    {
     "data": {
      "text/plain": [
       "Index(['countryiso3code', 'date', 'value', 'unit', 'obs_status', 'decimal',\n",
       "       'indicator.id', 'indicator.value', 'country.id', 'country.value'],\n",
       "      dtype='object')"
      ]
     },
     "execution_count": 11,
     "metadata": {},
     "output_type": "execute_result"
    }
   ],
   "source": [
    "df_unemployment.columns\n"
   ]
  },
  {
   "cell_type": "code",
   "execution_count": 20,
   "metadata": {},
   "outputs": [
    {
     "name": "stdout",
     "output_type": "stream",
     "text": [
      "<class 'pandas.core.frame.DataFrame'>\n",
      "RangeIndex: 266 entries, 0 to 265\n",
      "Data columns (total 10 columns):\n",
      " #   Column           Non-Null Count  Dtype  \n",
      "---  ------           --------------  -----  \n",
      " 0   countryiso3code  266 non-null    object \n",
      " 1   date             266 non-null    object \n",
      " 2   value            233 non-null    float64\n",
      " 3   unit             266 non-null    object \n",
      " 4   obs_status       266 non-null    object \n",
      " 5   decimal          266 non-null    int64  \n",
      " 6   indicator.id     266 non-null    object \n",
      " 7   indicator.value  266 non-null    object \n",
      " 8   country.id       266 non-null    object \n",
      " 9   country.value    266 non-null    object \n",
      "dtypes: float64(1), int64(1), object(8)\n",
      "memory usage: 20.9+ KB\n"
     ]
    }
   ],
   "source": [
    "df_unemployment.info() \n"
   ]
  },
  {
   "cell_type": "code",
   "execution_count": 21,
   "metadata": {},
   "outputs": [
    {
     "data": {
      "text/html": [
       "<div>\n",
       "<style scoped>\n",
       "    .dataframe tbody tr th:only-of-type {\n",
       "        vertical-align: middle;\n",
       "    }\n",
       "\n",
       "    .dataframe tbody tr th {\n",
       "        vertical-align: top;\n",
       "    }\n",
       "\n",
       "    .dataframe thead th {\n",
       "        text-align: right;\n",
       "    }\n",
       "</style>\n",
       "<table border=\"1\" class=\"dataframe\">\n",
       "  <thead>\n",
       "    <tr style=\"text-align: right;\">\n",
       "      <th></th>\n",
       "      <th>countryiso3code</th>\n",
       "      <th>date</th>\n",
       "      <th>value</th>\n",
       "      <th>unit</th>\n",
       "      <th>obs_status</th>\n",
       "      <th>decimal</th>\n",
       "      <th>indicator.id</th>\n",
       "      <th>indicator.value</th>\n",
       "      <th>country.id</th>\n",
       "      <th>country.value</th>\n",
       "    </tr>\n",
       "  </thead>\n",
       "  <tbody>\n",
       "    <tr>\n",
       "      <th>220</th>\n",
       "      <td>SGP</td>\n",
       "      <td>2023</td>\n",
       "      <td>3.472</td>\n",
       "      <td></td>\n",
       "      <td></td>\n",
       "      <td>1</td>\n",
       "      <td>SL.UEM.TOTL.ZS</td>\n",
       "      <td>Unemployment, total (% of total labor force) (...</td>\n",
       "      <td>SG</td>\n",
       "      <td>Singapore</td>\n",
       "    </tr>\n",
       "  </tbody>\n",
       "</table>\n",
       "</div>"
      ],
      "text/plain": [
       "    countryiso3code  date  value unit obs_status  decimal    indicator.id  \\\n",
       "220             SGP  2023  3.472                        1  SL.UEM.TOTL.ZS   \n",
       "\n",
       "                                       indicator.value country.id  \\\n",
       "220  Unemployment, total (% of total labor force) (...         SG   \n",
       "\n",
       "    country.value  \n",
       "220     Singapore  "
      ]
     },
     "execution_count": 21,
     "metadata": {},
     "output_type": "execute_result"
    }
   ],
   "source": [
    "#print(df_unemployment[\"countryiso3code\"])\n",
    "df_unemployment.loc[df_unemployment['countryiso3code'] == 'SGP'] \n"
   ]
  },
  {
   "cell_type": "code",
   "execution_count": 22,
   "metadata": {},
   "outputs": [
    {
     "name": "stdout",
     "output_type": "stream",
     "text": [
      "Starting transform\n",
      "Completed transform\n",
      "   year country_code                    country_name    indicator_id  \\\n",
      "0  2023          AFE     Africa Eastern and Southern  SL.UEM.TOTL.ZS   \n",
      "1  2023          AFW      Africa Western and Central  SL.UEM.TOTL.ZS   \n",
      "2  2023          ARB                      Arab World  SL.UEM.TOTL.ZS   \n",
      "3  2023          CSS          Caribbean small states  SL.UEM.TOTL.ZS   \n",
      "4  2023          CEB  Central Europe and the Baltics  SL.UEM.TOTL.ZS   \n",
      "\n",
      "                                     indicator_value     value region  \n",
      "0  Unemployment, total (% of total labor force) (...  7.472824    NaN  \n",
      "1  Unemployment, total (% of total labor force) (...  3.397782    NaN  \n",
      "2  Unemployment, total (% of total labor force) (...  9.878318    NaN  \n",
      "3  Unemployment, total (% of total labor force) (...  9.913604    NaN  \n",
      "4  Unemployment, total (% of total labor force) (...  4.081257    NaN  \n"
     ]
    }
   ],
   "source": [
    "def transform(df: pd.DataFrame, region_file_path) -> pd.DataFrame:\n",
    "    if df.empty:\n",
    "        print(\"Incremental extract is empty. No data to transform.\")\n",
    "    else:\n",
    "        print(\"Starting transform\")\n",
    "\n",
    "        # select some columns\n",
    "        df_selected = df[\n",
    "            [\n",
    "                \"date\",\n",
    "                \"countryiso3code\",\n",
    "                \"country.value\",\n",
    "                \"indicator.id\",\n",
    "                \"indicator.value\",\n",
    "                \"value\",\n",
    "            ]\n",
    "        ]\n",
    "\n",
    "        # rename column names\n",
    "        df_renamed = df_selected.rename(\n",
    "            columns={\n",
    "                \"date\": \"year\",\n",
    "                \"countryiso3code\": \"country_code\",\n",
    "                \"country.value\": \"country_name\",\n",
    "                \"indicator.id\": \"indicator_id\",\n",
    "                \"indicator.value\": \"indicator_value\",\n",
    "            }\n",
    "        )\n",
    "\n",
    "        # Remove NaN from the Year and value column\n",
    "        df_cleaned = df_renamed.dropna(subset=[\"year\"]).dropna(subset=[\"value\"])\n",
    "\n",
    "        # change datatype of year\n",
    "        df_cleaned = df_cleaned.astype({\"year\": int})\n",
    "\n",
    "        df_region = pd.read_csv(\n",
    "            region_file_path, usecols=[\"Code\", \"Region\"]\n",
    "        )  # \"data/CLASS_CSV.csv\"\n",
    "\n",
    "        df_region = df_region.rename(columns={\"Region\": \"region\"})\n",
    "\n",
    "        # merge with region class file\n",
    "        df_final = pd.merge(\n",
    "            left=df_cleaned,\n",
    "            right=df_region,\n",
    "            left_on=\"country_code\",\n",
    "            right_on=\"Code\",\n",
    "        )\n",
    "\n",
    "        df_final = df_final.drop([\"Code\"], axis=1)\n",
    "\n",
    "        print(\"Completed transform\")\n",
    "        df = df_final\n",
    "\n",
    "    return pd.DataFrame(df)\n",
    "\n",
    "df = transform(df=df_unemployment, region_file_path='data/CLASS_CSV.csv')\n",
    "\n",
    "print(df.head())\n",
    "\n"
   ]
  },
  {
   "cell_type": "code",
   "execution_count": 24,
   "metadata": {},
   "outputs": [
    {
     "name": "stdout",
     "output_type": "stream",
     "text": [
      "     year country_code country_name    indicator_id  \\\n",
      "190  2023          SGP    Singapore  SL.UEM.TOTL.ZS   \n",
      "\n",
      "                                       indicator_value  value  \\\n",
      "190  Unemployment, total (% of total labor force) (...  3.472   \n",
      "\n",
      "                  region  \n",
      "190  East Asia & Pacific  \n"
     ]
    }
   ],
   "source": [
    "print(df.loc[df['country_code'] == 'SGP'] )\n"
   ]
  },
  {
   "cell_type": "code",
   "execution_count": 25,
   "metadata": {},
   "outputs": [
    {
     "name": "stdout",
     "output_type": "stream",
     "text": [
      "<class 'pandas.core.frame.DataFrame'>\n",
      "Int64Index: 229 entries, 0 to 228\n",
      "Data columns (total 7 columns):\n",
      " #   Column           Non-Null Count  Dtype  \n",
      "---  ------           --------------  -----  \n",
      " 0   year             229 non-null    int32  \n",
      " 1   country_code     229 non-null    object \n",
      " 2   country_name     229 non-null    object \n",
      " 3   indicator_id     229 non-null    object \n",
      " 4   indicator_value  229 non-null    object \n",
      " 5   value            229 non-null    float64\n",
      " 6   region           185 non-null    object \n",
      "dtypes: float64(1), int32(1), object(5)\n",
      "memory usage: 13.4+ KB\n"
     ]
    }
   ],
   "source": [
    "df.info()"
   ]
  },
  {
   "cell_type": "code",
   "execution_count": 17,
   "metadata": {},
   "outputs": [],
   "source": [
    "\n",
    "df_unemployment.to_excel(\"data/suph_export_unemp_from api.xlsx\")"
   ]
  },
  {
   "cell_type": "code",
   "execution_count": 7,
   "metadata": {},
   "outputs": [
    {
     "name": "stdout",
     "output_type": "stream",
     "text": [
      "exports\n"
     ]
    }
   ],
   "source": [
    "from dotenv import load_dotenv\n",
    "import yaml\n",
    "from pathlib import Path\n",
    "\n",
    "# get config variables\n",
    "yaml_file_path = \"pipelines/gem.yaml\"\n",
    "if Path(yaml_file_path).exists():\n",
    "    with open(yaml_file_path) as yaml_file:\n",
    "            pipeline_config = yaml.safe_load(yaml_file)\n",
    "            config = pipeline_config.get(\"config\")\n",
    "            PIPELINE_NAME = pipeline_config.get(\"name\")\n",
    "            \n",
    "            \n",
    "            wb_indicator = config.get(\"indicator_export\")\n",
    "            wb_daterange = config.get(\"date_range\")\n",
    "            region_file_path = config.get(\"region_classification_path\")\n",
    "\n",
    "            incremental_column = pipeline_config.get(\"extract\").get(\"incremental_column\")\n",
    "            extract_type = pipeline_config.get(\"extract\").get(\"extract_type\")\n",
    "            #extract_table_name = \"unemployment\" #? how do we make this dynamic to include all our tables\n",
    "               # Use the 'table_names' on yaml to set the table name dynamically\n",
    "            extract_table_name = (\n",
    "                pipeline_config.get(\"table_names\").get(wb_indicator)\n",
    "            )\n",
    "\n",
    "            \n",
    "\n",
    "else:\n",
    "    raise Exception(\n",
    "            f\"Missing {yaml_file_path} file! Please create the yaml file with at least a `name` key for the pipeline name.\"\n",
    "        )\n",
    "\n",
    "print(extract_table_name)"
   ]
  },
  {
   "cell_type": "markdown",
   "metadata": {},
   "source": []
  }
 ],
 "metadata": {
  "kernelspec": {
   "display_name": "my_etl",
   "language": "python",
   "name": "python3"
  },
  "language_info": {
   "codemirror_mode": {
    "name": "ipython",
    "version": 3
   },
   "file_extension": ".py",
   "mimetype": "text/x-python",
   "name": "python",
   "nbconvert_exporter": "python",
   "pygments_lexer": "ipython3",
   "version": "3.9.19"
  }
 },
 "nbformat": 4,
 "nbformat_minor": 2
}
