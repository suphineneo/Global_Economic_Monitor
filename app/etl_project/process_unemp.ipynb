{
 "cells": [
  {
   "cell_type": "code",
   "execution_count": null,
   "metadata": {},
   "outputs": [],
   "source": [
    "\n",
    "api_url = 'https://databank.worldbank.org/data/reports.aspx?dsid=15&series=UNEMPSA_'\n",
    "base_url = 'http://api.worldbank.org/v2/indicators/'\n",
    "\n",
    "indicator_code = 'SL.UEM.TOTL.NE.ZS?'\n",
    "# http://api.worldbank.org/v2/indicators/SL.UEM.TOTL.NE.ZS?   >> this only returns\n",
    "Code\n",
    "Name\n",
    "Unit\n",
    "Source ID\n",
    "Source Note\n",
    "Source Organization\n",
    "Topic ID\n",
    "Topic Name\n",
    "\n",
    "you want the data...\n",
    " http://api.worldbank.org/v2/indicators/SL.UEM.TOTL.NE.ZS?date=2000:2010 \n",
    "\n",
    "#json example - JSON: http://api.worldbank.org/v2/indicators/NY.GDP.MKTP.CD?format=json\n",
    "\n",
    "DATA:\n",
    "\n",
    "https://api.worldbank.org/v2/country/all/indicator/SL.UEM.TOTL.NE.ZS?date=2022:2024\n",
    "\n",
    "Frequency: For fetching quarterly (Q), monthly (M) or yearly (Y) values. This feature currently works along with MRV. This query string is useful for querying high frequency data.\n",
    "\n",
    "Example: http://api.worldbank.org/v2/en/country/ind;chn/indicator/DPANUSSPF?mrv=7&frequency=M\n",
    "\n",
    "\n",
    "try with this first:.. dunno how to get monthly.. \n",
    "\n",
    "https://api.worldbank.org/v2/country/all/indicator/SL.UEM.TOTL.NE.ZS?date=2023:2024"
   ]
  },
  {
   "cell_type": "code",
   "execution_count": 5,
   "metadata": {},
   "outputs": [],
   "source": [
    "import requests\n",
    "import pandas as pd\n",
    "from datetime import datetime, timezone"
   ]
  },
  {
   "cell_type": "code",
   "execution_count": 24,
   "metadata": {},
   "outputs": [
    {
     "name": "stdout",
     "output_type": "stream",
     "text": [
      "[{'page': 1, 'pages': 6, 'per_page': 50, 'total': 266, 'sourceid': '2', 'lastupdated': '2024-09-19'}, [{'indicator': {'id': 'SL.UEM.TOTL.ZS', 'value': 'Unemployment, total (% of total labor force) (modeled ILO estimate)'}, 'country': {'id': 'ZH', 'value': 'Africa Eastern and Southern'}, 'countryiso3code': 'AFE', 'date': '2023', 'value': 7.47282411216494, 'unit': '', 'obs_status': '', 'decimal': 1}, {'indicator': {'id': 'SL.UEM.TOTL.ZS', 'value': 'Unemployment, total (% of total labor force) (modeled ILO estimate)'}, 'country': {'id': 'ZI', 'value': 'Africa Western and Central'}, 'countryiso3code': 'AFW', 'date': '2023', 'value': 3.39778239252847, 'unit': '', 'obs_status': '', 'decimal': 1}, {'indicator': {'id': 'SL.UEM.TOTL.ZS', 'value': 'Unemployment, total (% of total labor force) (modeled ILO estimate)'}, 'country': {'id': '1A', 'value': 'Arab World'}, 'countryiso3code': 'ARB', 'date': '2023', 'value': 9.87831825553502, 'unit': '', 'obs_status': '', 'decimal': 1}, {'indicator': {'id': 'SL.UEM.TOTL.ZS', 'value': 'Unemployment, total (% of total labor force) (modeled ILO estimate)'}, 'country': {'id': 'S3', 'value': 'Caribbean small states'}, 'countryiso3code': 'CSS', 'date': '2023', 'value': 9.91360375890167, 'unit': '', 'obs_status': '', 'decimal': 1}, {'indicator': {'id': 'SL.UEM.TOTL.ZS', 'value': 'Unemployment, total (% of total labor force) (modeled ILO estimate)'}, 'country': {'id': 'B8', 'value': 'Central Europe and the Baltics'}, 'countryiso3code': 'CEB', 'date': '2023', 'value': 4.08125724708342, 'unit': '', 'obs_status': '', 'decimal': 1}, {'indicator': {'id': 'SL.UEM.TOTL.ZS', 'value': 'Unemployment, total (% of total labor force) (modeled ILO estimate)'}, 'country': {'id': 'V2', 'value': 'Early-demographic dividend'}, 'countryiso3code': 'EAR', 'date': '2023', 'value': 5.20457602717864, 'unit': '', 'obs_status': '', 'decimal': 1}, {'indicator': {'id': 'SL.UEM.TOTL.ZS', 'value': 'Unemployment, total (% of total labor force) (modeled ILO estimate)'}, 'country': {'id': 'Z4', 'value': 'East Asia & Pacific'}, 'countryiso3code': 'EAS', 'date': '2023', 'value': 3.88568706575614, 'unit': '', 'obs_status': '', 'decimal': 1}, {'indicator': {'id': 'SL.UEM.TOTL.ZS', 'value': 'Unemployment, total (% of total labor force) (modeled ILO estimate)'}, 'country': {'id': '4E', 'value': 'East Asia & Pacific (excluding high income)'}, 'countryiso3code': 'EAP', 'date': '2023', 'value': 4.00042935827848, 'unit': '', 'obs_status': '', 'decimal': 1}, {'indicator': {'id': 'SL.UEM.TOTL.ZS', 'value': 'Unemployment, total (% of total labor force) (modeled ILO estimate)'}, 'country': {'id': 'T4', 'value': 'East Asia & Pacific (IDA & IBRD countries)'}, 'countryiso3code': 'TEA', 'date': '2023', 'value': 4.01445096979499, 'unit': '', 'obs_status': '', 'decimal': 1}, {'indicator': {'id': 'SL.UEM.TOTL.ZS', 'value': 'Unemployment, total (% of total labor force) (modeled ILO estimate)'}, 'country': {'id': 'XC', 'value': 'Euro area'}, 'countryiso3code': 'EMU', 'date': '2023', 'value': 6.53016093878662, 'unit': '', 'obs_status': '', 'decimal': 1}, {'indicator': {'id': 'SL.UEM.TOTL.ZS', 'value': 'Unemployment, total (% of total labor force) (modeled ILO estimate)'}, 'country': {'id': 'Z7', 'value': 'Europe & Central Asia'}, 'countryiso3code': 'ECS', 'date': '2023', 'value': 5.60156165342597, 'unit': '', 'obs_status': '', 'decimal': 1}, {'indicator': {'id': 'SL.UEM.TOTL.ZS', 'value': 'Unemployment, total (% of total labor force) (modeled ILO estimate)'}, 'country': {'id': '7E', 'value': 'Europe & Central Asia (excluding high income)'}, 'countryiso3code': 'ECA', 'date': '2023', 'value': 7.17450381976556, 'unit': '', 'obs_status': '', 'decimal': 1}, {'indicator': {'id': 'SL.UEM.TOTL.ZS', 'value': 'Unemployment, total (% of total labor force) (modeled ILO estimate)'}, 'country': {'id': 'T7', 'value': 'Europe & Central Asia (IDA & IBRD countries)'}, 'countryiso3code': 'TEC', 'date': '2023', 'value': 5.19982385763887, 'unit': '', 'obs_status': '', 'decimal': 1}, {'indicator': {'id': 'SL.UEM.TOTL.ZS', 'value': 'Unemployment, total (% of total labor force) (modeled ILO estimate)'}, 'country': {'id': 'EU', 'value': 'European Union'}, 'countryiso3code': 'EUU', 'date': '2023', 'value': 6.01950835510471, 'unit': '', 'obs_status': '', 'decimal': 1}, {'indicator': {'id': 'SL.UEM.TOTL.ZS', 'value': 'Unemployment, total (% of total labor force) (modeled ILO estimate)'}, 'country': {'id': 'F1', 'value': 'Fragile and conflict affected situations'}, 'countryiso3code': 'FCS', 'date': '2023', 'value': 5.61591641710673, 'unit': '', 'obs_status': '', 'decimal': 1}, {'indicator': {'id': 'SL.UEM.TOTL.ZS', 'value': 'Unemployment, total (% of total labor force) (modeled ILO estimate)'}, 'country': {'id': 'XE', 'value': 'Heavily indebted poor countries (HIPC)'}, 'countryiso3code': 'HPC', 'date': '2023', 'value': 4.62453871067687, 'unit': '', 'obs_status': '', 'decimal': 1}, {'indicator': {'id': 'SL.UEM.TOTL.ZS', 'value': 'Unemployment, total (% of total labor force) (modeled ILO estimate)'}, 'country': {'id': 'XD', 'value': 'High income'}, 'countryiso3code': '', 'date': '2023', 'value': 4.38700603790303, 'unit': '', 'obs_status': '', 'decimal': 1}, {'indicator': {'id': 'SL.UEM.TOTL.ZS', 'value': 'Unemployment, total (% of total labor force) (modeled ILO estimate)'}, 'country': {'id': 'XF', 'value': 'IBRD only'}, 'countryiso3code': 'IBD', 'date': '2023', 'value': 5.11937184371446, 'unit': '', 'obs_status': '', 'decimal': 1}, {'indicator': {'id': 'SL.UEM.TOTL.ZS', 'value': 'Unemployment, total (% of total labor force) (modeled ILO estimate)'}, 'country': {'id': 'ZT', 'value': 'IDA & IBRD total'}, 'countryiso3code': 'IBT', 'date': '2023', 'value': 5.08018735510528, 'unit': '', 'obs_status': '', 'decimal': 1}, {'indicator': {'id': 'SL.UEM.TOTL.ZS', 'value': 'Unemployment, total (% of total labor force) (modeled ILO estimate)'}, 'country': {'id': 'XH', 'value': 'IDA blend'}, 'countryiso3code': 'IDB', 'date': '2023', 'value': 4.8103699956364, 'unit': '', 'obs_status': '', 'decimal': 1}, {'indicator': {'id': 'SL.UEM.TOTL.ZS', 'value': 'Unemployment, total (% of total labor force) (modeled ILO estimate)'}, 'country': {'id': 'XI', 'value': 'IDA only'}, 'countryiso3code': 'IDX', 'date': '2023', 'value': 5.017920411237, 'unit': '', 'obs_status': '', 'decimal': 1}, {'indicator': {'id': 'SL.UEM.TOTL.ZS', 'value': 'Unemployment, total (% of total labor force) (modeled ILO estimate)'}, 'country': {'id': 'XG', 'value': 'IDA total'}, 'countryiso3code': 'IDA', 'date': '2023', 'value': 4.95281977990232, 'unit': '', 'obs_status': '', 'decimal': 1}, {'indicator': {'id': 'SL.UEM.TOTL.ZS', 'value': 'Unemployment, total (% of total labor force) (modeled ILO estimate)'}, 'country': {'id': 'V3', 'value': 'Late-demographic dividend'}, 'countryiso3code': 'LTE', 'date': '2023', 'value': 4.84214780024556, 'unit': '', 'obs_status': '', 'decimal': 1}, {'indicator': {'id': 'SL.UEM.TOTL.ZS', 'value': 'Unemployment, total (% of total labor force) (modeled ILO estimate)'}, 'country': {'id': 'ZJ', 'value': 'Latin America & Caribbean'}, 'countryiso3code': 'LCN', 'date': '2023', 'value': 6.22089586370748, 'unit': '', 'obs_status': '', 'decimal': 1}, {'indicator': {'id': 'SL.UEM.TOTL.ZS', 'value': 'Unemployment, total (% of total labor force) (modeled ILO estimate)'}, 'country': {'id': 'XJ', 'value': 'Latin America & Caribbean (excluding high income)'}, 'countryiso3code': 'LAC', 'date': '2023', 'value': 6.13213708847925, 'unit': '', 'obs_status': '', 'decimal': 1}, {'indicator': {'id': 'SL.UEM.TOTL.ZS', 'value': 'Unemployment, total (% of total labor force) (modeled ILO estimate)'}, 'country': {'id': 'T2', 'value': 'Latin America & the Caribbean (IDA & IBRD countries)'}, 'countryiso3code': 'TLA', 'date': '2023', 'value': 6.30454339239509, 'unit': '', 'obs_status': '', 'decimal': 1}, {'indicator': {'id': 'SL.UEM.TOTL.ZS', 'value': 'Unemployment, total (% of total labor force) (modeled ILO estimate)'}, 'country': {'id': 'XL', 'value': 'Least developed countries: UN classification'}, 'countryiso3code': 'LDC', 'date': '2023', 'value': 5.3022047503225, 'unit': '', 'obs_status': '', 'decimal': 1}, {'indicator': {'id': 'SL.UEM.TOTL.ZS', 'value': 'Unemployment, total (% of total labor force) (modeled ILO estimate)'}, 'country': {'id': 'XO', 'value': 'Low & middle income'}, 'countryiso3code': 'LMY', 'date': '2023', 'value': 5.09892428882732, 'unit': '', 'obs_status': '', 'decimal': 1}, {'indicator': {'id': 'SL.UEM.TOTL.ZS', 'value': 'Unemployment, total (% of total labor force) (modeled ILO estimate)'}, 'country': {'id': 'XM', 'value': 'Low income'}, 'countryiso3code': '', 'date': '2023', 'value': 5.31143248284265, 'unit': '', 'obs_status': '', 'decimal': 1}, {'indicator': {'id': 'SL.UEM.TOTL.ZS', 'value': 'Unemployment, total (% of total labor force) (modeled ILO estimate)'}, 'country': {'id': 'XN', 'value': 'Lower middle income'}, 'countryiso3code': '', 'date': '2023', 'value': 4.49909170990787, 'unit': '', 'obs_status': '', 'decimal': 1}, {'indicator': {'id': 'SL.UEM.TOTL.ZS', 'value': 'Unemployment, total (% of total labor force) (modeled ILO estimate)'}, 'country': {'id': 'ZQ', 'value': 'Middle East & North Africa'}, 'countryiso3code': 'MEA', 'date': '2023', 'value': 9.22527629027245, 'unit': '', 'obs_status': '', 'decimal': 1}, {'indicator': {'id': 'SL.UEM.TOTL.ZS', 'value': 'Unemployment, total (% of total labor force) (modeled ILO estimate)'}, 'country': {'id': 'XQ', 'value': 'Middle East & North Africa (excluding high income)'}, 'countryiso3code': 'MNA', 'date': '2023', 'value': 10.8744458910793, 'unit': '', 'obs_status': '', 'decimal': 1}, {'indicator': {'id': 'SL.UEM.TOTL.ZS', 'value': 'Unemployment, total (% of total labor force) (modeled ILO estimate)'}, 'country': {'id': 'T3', 'value': 'Middle East & North Africa (IDA & IBRD countries)'}, 'countryiso3code': 'TMN', 'date': '2023', 'value': 10.8744458910793, 'unit': '', 'obs_status': '', 'decimal': 1}, {'indicator': {'id': 'SL.UEM.TOTL.ZS', 'value': 'Unemployment, total (% of total labor force) (modeled ILO estimate)'}, 'country': {'id': 'XP', 'value': 'Middle income'}, 'countryiso3code': 'MIC', 'date': '2023', 'value': 5.07688546290496, 'unit': '', 'obs_status': '', 'decimal': 1}, {'indicator': {'id': 'SL.UEM.TOTL.ZS', 'value': 'Unemployment, total (% of total labor force) (modeled ILO estimate)'}, 'country': {'id': 'XU', 'value': 'North America'}, 'countryiso3code': 'NAC', 'date': '2023', 'value': 3.82480514362416, 'unit': '', 'obs_status': '', 'decimal': 1}, {'indicator': {'id': 'SL.UEM.TOTL.ZS', 'value': 'Unemployment, total (% of total labor force) (modeled ILO estimate)'}, 'country': {'id': 'XY', 'value': 'Not classified'}, 'countryiso3code': '', 'date': '2023', 'value': None, 'unit': '', 'obs_status': '', 'decimal': 1}, {'indicator': {'id': 'SL.UEM.TOTL.ZS', 'value': 'Unemployment, total (% of total labor force) (modeled ILO estimate)'}, 'country': {'id': 'OE', 'value': 'OECD members'}, 'countryiso3code': 'OED', 'date': '2023', 'value': 4.81907315738235, 'unit': '', 'obs_status': '', 'decimal': 1}, {'indicator': {'id': 'SL.UEM.TOTL.ZS', 'value': 'Unemployment, total (% of total labor force) (modeled ILO estimate)'}, 'country': {'id': 'S4', 'value': 'Other small states'}, 'countryiso3code': 'OSS', 'date': '2023', 'value': 8.15238482768171, 'unit': '', 'obs_status': '', 'decimal': 1}, {'indicator': {'id': 'SL.UEM.TOTL.ZS', 'value': 'Unemployment, total (% of total labor force) (modeled ILO estimate)'}, 'country': {'id': 'S2', 'value': 'Pacific island small states'}, 'countryiso3code': 'PSS', 'date': '2023', 'value': 3.72942065533497, 'unit': '', 'obs_status': '', 'decimal': 1}, {'indicator': {'id': 'SL.UEM.TOTL.ZS', 'value': 'Unemployment, total (% of total labor force) (modeled ILO estimate)'}, 'country': {'id': 'V4', 'value': 'Post-demographic dividend'}, 'countryiso3code': 'PST', 'date': '2023', 'value': 4.45596873789694, 'unit': '', 'obs_status': '', 'decimal': 1}, {'indicator': {'id': 'SL.UEM.TOTL.ZS', 'value': 'Unemployment, total (% of total labor force) (modeled ILO estimate)'}, 'country': {'id': 'V1', 'value': 'Pre-demographic dividend'}, 'countryiso3code': 'PRE', 'date': '2023', 'value': 5.16816565702535, 'unit': '', 'obs_status': '', 'decimal': 1}, {'indicator': {'id': 'SL.UEM.TOTL.ZS', 'value': 'Unemployment, total (% of total labor force) (modeled ILO estimate)'}, 'country': {'id': 'S1', 'value': 'Small states'}, 'countryiso3code': 'SST', 'date': '2023', 'value': 7.88971878930358, 'unit': '', 'obs_status': '', 'decimal': 1}, {'indicator': {'id': 'SL.UEM.TOTL.ZS', 'value': 'Unemployment, total (% of total labor force) (modeled ILO estimate)'}, 'country': {'id': '8S', 'value': 'South Asia'}, 'countryiso3code': 'SAS', 'date': '2023', 'value': 4.61349940430436, 'unit': '', 'obs_status': '', 'decimal': 1}, {'indicator': {'id': 'SL.UEM.TOTL.ZS', 'value': 'Unemployment, total (% of total labor force) (modeled ILO estimate)'}, 'country': {'id': 'T5', 'value': 'South Asia (IDA & IBRD)'}, 'countryiso3code': 'TSA', 'date': '2023', 'value': 4.61349940430436, 'unit': '', 'obs_status': '', 'decimal': 1}, {'indicator': {'id': 'SL.UEM.TOTL.ZS', 'value': 'Unemployment, total (% of total labor force) (modeled ILO estimate)'}, 'country': {'id': 'ZG', 'value': 'Sub-Saharan Africa'}, 'countryiso3code': 'SSF', 'date': '2023', 'value': 5.9681441605434, 'unit': '', 'obs_status': '', 'decimal': 1}, {'indicator': {'id': 'SL.UEM.TOTL.ZS', 'value': 'Unemployment, total (% of total labor force) (modeled ILO estimate)'}, 'country': {'id': 'ZF', 'value': 'Sub-Saharan Africa (excluding high income)'}, 'countryiso3code': 'SSA', 'date': '2023', 'value': 5.9681441605434, 'unit': '', 'obs_status': '', 'decimal': 1}, {'indicator': {'id': 'SL.UEM.TOTL.ZS', 'value': 'Unemployment, total (% of total labor force) (modeled ILO estimate)'}, 'country': {'id': 'T6', 'value': 'Sub-Saharan Africa (IDA & IBRD countries)'}, 'countryiso3code': 'TSS', 'date': '2023', 'value': 5.9681441605434, 'unit': '', 'obs_status': '', 'decimal': 1}, {'indicator': {'id': 'SL.UEM.TOTL.ZS', 'value': 'Unemployment, total (% of total labor force) (modeled ILO estimate)'}, 'country': {'id': 'XT', 'value': 'Upper middle income'}, 'countryiso3code': '', 'date': '2023', 'value': 5.58021086539816, 'unit': '', 'obs_status': '', 'decimal': 1}, {'indicator': {'id': 'SL.UEM.TOTL.ZS', 'value': 'Unemployment, total (% of total labor force) (modeled ILO estimate)'}, 'country': {'id': '1W', 'value': 'World'}, 'countryiso3code': 'WLD', 'date': '2023', 'value': 4.96143065047416, 'unit': '', 'obs_status': '', 'decimal': 1}, {'indicator': {'id': 'SL.UEM.TOTL.ZS', 'value': 'Unemployment, total (% of total labor force) (modeled ILO estimate)'}, 'country': {'id': 'AF', 'value': 'Afghanistan'}, 'countryiso3code': 'AFG', 'date': '2023', 'value': 14.386, 'unit': '', 'obs_status': '', 'decimal': 1}]]\n"
     ]
    }
   ],
   "source": [
    "#https://api.worldbank.org/v2/country/all/indicator/SL.UEM.TOTL.NE.ZS?date=2024:2024\n",
    "#https://api.worldbank.org/v2/countries/all/indicators/SL.UEM.TOTL.ZS \n",
    "# use this to check api/metadata: https://api.worldbank.org/v2/countries/all/indicator/SL.UEM.TOTL.ZS?date=2023:2024&format=json&page=6\n",
    "indicator=\"SL.UEM.TOTL.ZS\"\n",
    "date_range = \"date=2023:2024\"\n",
    "base_url = f\"https://api.worldbank.org/v2/countries/all/indicator/{indicator}?{date_range}&format=json\"\n",
    "\n",
    "response_data = []\n",
    "\n",
    "response = requests.get(base_url)\n",
    "response_data = response.json()\n",
    "print(response_data)\n"
   ]
  },
  {
   "cell_type": "code",
   "execution_count": 25,
   "metadata": {},
   "outputs": [],
   "source": [
    "# Separate the metadata and records\n",
    "metadata = response_data[0]\n",
    "records = response_data[1]\n",
    "df_unemployment = pd.json_normalize(data=records)\n"
   ]
  },
  {
   "cell_type": "code",
   "execution_count": 21,
   "metadata": {},
   "outputs": [
    {
     "data": {
      "text/plain": [
       "Index(['countryiso3code', 'date', 'value', 'unit', 'obs_status', 'decimal',\n",
       "       'indicator.id', 'indicator.value', 'country.id', 'country.value'],\n",
       "      dtype='object')"
      ]
     },
     "execution_count": 21,
     "metadata": {},
     "output_type": "execute_result"
    }
   ],
   "source": [
    "df_unemployment.columns"
   ]
  },
  {
   "cell_type": "code",
   "execution_count": 26,
   "metadata": {},
   "outputs": [
    {
     "data": {
      "text/html": [
       "<div>\n",
       "<style scoped>\n",
       "    .dataframe tbody tr th:only-of-type {\n",
       "        vertical-align: middle;\n",
       "    }\n",
       "\n",
       "    .dataframe tbody tr th {\n",
       "        vertical-align: top;\n",
       "    }\n",
       "\n",
       "    .dataframe thead th {\n",
       "        text-align: right;\n",
       "    }\n",
       "</style>\n",
       "<table border=\"1\" class=\"dataframe\">\n",
       "  <thead>\n",
       "    <tr style=\"text-align: right;\">\n",
       "      <th></th>\n",
       "      <th>countryiso3code</th>\n",
       "      <th>date</th>\n",
       "      <th>value</th>\n",
       "      <th>unit</th>\n",
       "      <th>obs_status</th>\n",
       "      <th>decimal</th>\n",
       "      <th>indicator.id</th>\n",
       "      <th>indicator.value</th>\n",
       "      <th>country.id</th>\n",
       "      <th>country.value</th>\n",
       "    </tr>\n",
       "  </thead>\n",
       "  <tbody>\n",
       "    <tr>\n",
       "      <th>0</th>\n",
       "      <td>AFE</td>\n",
       "      <td>2023</td>\n",
       "      <td>7.472824</td>\n",
       "      <td></td>\n",
       "      <td></td>\n",
       "      <td>1</td>\n",
       "      <td>SL.UEM.TOTL.ZS</td>\n",
       "      <td>Unemployment, total (% of total labor force) (...</td>\n",
       "      <td>ZH</td>\n",
       "      <td>Africa Eastern and Southern</td>\n",
       "    </tr>\n",
       "    <tr>\n",
       "      <th>1</th>\n",
       "      <td>AFW</td>\n",
       "      <td>2023</td>\n",
       "      <td>3.397782</td>\n",
       "      <td></td>\n",
       "      <td></td>\n",
       "      <td>1</td>\n",
       "      <td>SL.UEM.TOTL.ZS</td>\n",
       "      <td>Unemployment, total (% of total labor force) (...</td>\n",
       "      <td>ZI</td>\n",
       "      <td>Africa Western and Central</td>\n",
       "    </tr>\n",
       "    <tr>\n",
       "      <th>2</th>\n",
       "      <td>ARB</td>\n",
       "      <td>2023</td>\n",
       "      <td>9.878318</td>\n",
       "      <td></td>\n",
       "      <td></td>\n",
       "      <td>1</td>\n",
       "      <td>SL.UEM.TOTL.ZS</td>\n",
       "      <td>Unemployment, total (% of total labor force) (...</td>\n",
       "      <td>1A</td>\n",
       "      <td>Arab World</td>\n",
       "    </tr>\n",
       "    <tr>\n",
       "      <th>3</th>\n",
       "      <td>CSS</td>\n",
       "      <td>2023</td>\n",
       "      <td>9.913604</td>\n",
       "      <td></td>\n",
       "      <td></td>\n",
       "      <td>1</td>\n",
       "      <td>SL.UEM.TOTL.ZS</td>\n",
       "      <td>Unemployment, total (% of total labor force) (...</td>\n",
       "      <td>S3</td>\n",
       "      <td>Caribbean small states</td>\n",
       "    </tr>\n",
       "    <tr>\n",
       "      <th>4</th>\n",
       "      <td>CEB</td>\n",
       "      <td>2023</td>\n",
       "      <td>4.081257</td>\n",
       "      <td></td>\n",
       "      <td></td>\n",
       "      <td>1</td>\n",
       "      <td>SL.UEM.TOTL.ZS</td>\n",
       "      <td>Unemployment, total (% of total labor force) (...</td>\n",
       "      <td>B8</td>\n",
       "      <td>Central Europe and the Baltics</td>\n",
       "    </tr>\n",
       "  </tbody>\n",
       "</table>\n",
       "</div>"
      ],
      "text/plain": [
       "  countryiso3code  date     value unit obs_status  decimal    indicator.id  \\\n",
       "0             AFE  2023  7.472824                        1  SL.UEM.TOTL.ZS   \n",
       "1             AFW  2023  3.397782                        1  SL.UEM.TOTL.ZS   \n",
       "2             ARB  2023  9.878318                        1  SL.UEM.TOTL.ZS   \n",
       "3             CSS  2023  9.913604                        1  SL.UEM.TOTL.ZS   \n",
       "4             CEB  2023  4.081257                        1  SL.UEM.TOTL.ZS   \n",
       "\n",
       "                                     indicator.value country.id  \\\n",
       "0  Unemployment, total (% of total labor force) (...         ZH   \n",
       "1  Unemployment, total (% of total labor force) (...         ZI   \n",
       "2  Unemployment, total (% of total labor force) (...         1A   \n",
       "3  Unemployment, total (% of total labor force) (...         S3   \n",
       "4  Unemployment, total (% of total labor force) (...         B8   \n",
       "\n",
       "                    country.value  \n",
       "0     Africa Eastern and Southern  \n",
       "1      Africa Western and Central  \n",
       "2                      Arab World  \n",
       "3          Caribbean small states  \n",
       "4  Central Europe and the Baltics  "
      ]
     },
     "execution_count": 26,
     "metadata": {},
     "output_type": "execute_result"
    }
   ],
   "source": [
    "df_unemployment.head() "
   ]
  },
  {
   "cell_type": "code",
   "execution_count": 31,
   "metadata": {},
   "outputs": [
    {
     "data": {
      "text/html": [
       "<div>\n",
       "<style scoped>\n",
       "    .dataframe tbody tr th:only-of-type {\n",
       "        vertical-align: middle;\n",
       "    }\n",
       "\n",
       "    .dataframe tbody tr th {\n",
       "        vertical-align: top;\n",
       "    }\n",
       "\n",
       "    .dataframe thead th {\n",
       "        text-align: right;\n",
       "    }\n",
       "</style>\n",
       "<table border=\"1\" class=\"dataframe\">\n",
       "  <thead>\n",
       "    <tr style=\"text-align: right;\">\n",
       "      <th></th>\n",
       "      <th>countryiso3code</th>\n",
       "      <th>date</th>\n",
       "      <th>value</th>\n",
       "      <th>unit</th>\n",
       "      <th>obs_status</th>\n",
       "      <th>decimal</th>\n",
       "      <th>indicator.id</th>\n",
       "      <th>indicator.value</th>\n",
       "      <th>country.id</th>\n",
       "      <th>country.value</th>\n",
       "    </tr>\n",
       "  </thead>\n",
       "  <tbody>\n",
       "  </tbody>\n",
       "</table>\n",
       "</div>"
      ],
      "text/plain": [
       "Empty DataFrame\n",
       "Columns: [countryiso3code, date, value, unit, obs_status, decimal, indicator.id, indicator.value, country.id, country.value]\n",
       "Index: []"
      ]
     },
     "execution_count": 31,
     "metadata": {},
     "output_type": "execute_result"
    }
   ],
   "source": [
    "#print(df_unemployment[\"countryiso3code\"])\n",
    "df_unemployment.loc[df_unemployment['countryiso3code'] == 'SGP'] #dunno why not there... "
   ]
  },
  {
   "cell_type": "code",
   "execution_count": 32,
   "metadata": {},
   "outputs": [
    {
     "name": "stdout",
     "output_type": "stream",
     "text": [
      "0     AFE\n",
      "1     AFW\n",
      "2     ARB\n",
      "3     CSS\n",
      "4     CEB\n",
      "5     EAR\n",
      "6     EAS\n",
      "7     EAP\n",
      "8     TEA\n",
      "9     EMU\n",
      "10    ECS\n",
      "11    ECA\n",
      "12    TEC\n",
      "13    EUU\n",
      "14    FCS\n",
      "15    HPC\n",
      "16       \n",
      "17    IBD\n",
      "18    IBT\n",
      "19    IDB\n",
      "20    IDX\n",
      "21    IDA\n",
      "22    LTE\n",
      "23    LCN\n",
      "24    LAC\n",
      "25    TLA\n",
      "26    LDC\n",
      "27    LMY\n",
      "28       \n",
      "29       \n",
      "30    MEA\n",
      "31    MNA\n",
      "32    TMN\n",
      "33    MIC\n",
      "34    NAC\n",
      "35       \n",
      "36    OED\n",
      "37    OSS\n",
      "38    PSS\n",
      "39    PST\n",
      "40    PRE\n",
      "41    SST\n",
      "42    SAS\n",
      "43    TSA\n",
      "44    SSF\n",
      "45    SSA\n",
      "46    TSS\n",
      "47       \n",
      "48    WLD\n",
      "49    AFG\n",
      "Name: countryiso3code, dtype: object\n"
     ]
    }
   ],
   "source": [
    "print(df_unemployment[\"countryiso3code\"])"
   ]
  }
 ],
 "metadata": {
  "kernelspec": {
   "display_name": "my_etl",
   "language": "python",
   "name": "python3"
  },
  "language_info": {
   "codemirror_mode": {
    "name": "ipython",
    "version": 3
   },
   "file_extension": ".py",
   "mimetype": "text/x-python",
   "name": "python",
   "nbconvert_exporter": "python",
   "pygments_lexer": "ipython3",
   "version": "3.9.19"
  }
 },
 "nbformat": 4,
 "nbformat_minor": 2
}
